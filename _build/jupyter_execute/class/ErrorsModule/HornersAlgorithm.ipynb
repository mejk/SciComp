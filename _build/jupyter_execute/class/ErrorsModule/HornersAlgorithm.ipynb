{
 "cells": [
  {
   "cell_type": "markdown",
   "metadata": {
    "tags": []
   },
   "source": [
    "# Horner's algorithm\n",
    "\n",
    "## Example: Evaluating polynomials\n",
    "\n",
    "To illustrate the affect of accumulation of roundoff errors let's imagine a decimal computer that does floating point arithemetic using a 3-digit chop.  Let's use this to compute the value of a polynomial written in the standard monomial basis:\n",
    "\n",
    "$$ p(x) = x^3-6x^2+3x-0.147 $$\n",
    "\n",
    "at the point $x=4.71$.  Using exact arithmetic\n",
    "\n",
    "$$ p(4.71) = -14.634489. $$\n",
    "\n",
    "Let $\\mathcal{fl}(.)$ denote the 3 digit chop operation and note that this imaginary computer must do this recursively (i.e. after every arithemtic operation) so an expression like  $\\mathcal{fl}(6 x^2)$ is evaluated as $\\mathcal{fl}(6 \\mathcal{fl}(x^2))$.  In particular, $ \\mathcal{fl}(4.71^2)=\\mathcal{fl}(22.1841)=22.1$ and $\\mathcal{fl}(6 \\mathcal{fl}(4.71^2))=\\mathcal{fl}(6\\times 22.1)=\\mathcal{fl}(132.6)=132$.  Doing this for every arithmetic operation leads to  \n",
    "\n",
    "$$ p^* = \\mathcal{fl}(p(4.71)) = -14.0 $$  \n",
    "\n",
    "Clearly we have lost a full digit of accuracy here (so only have 2 significant digits).  In this case, the result is not significantly improved using a rounding operation instead of a chop.  The question is:  Can we do any better or is this something we have to accept as part of not doing exact arithemtic?  The answer is that we can do better by rewriting the polynomial into a different, but mathematically equivalent form.  In this case, a nested multiplication:  \n",
    "\n",
    "$$ \\bar{p}(x) = ((x-6)x+3)x-0.147). $$  \n",
    "\n",
    "It should not be too hard to see that $\\bar{p}(x)$ is mathematically equivalent to our original polynomial $p(x)$.  If we evaluate this expression as written we get  \n",
    "\n",
    "$$ \\bar{p}^* =  \\mathcal{fl}(\\bar{p}(4.71)) = -14.5, $$  \n",
    "\n",
    "much closer to the exact result (and still retaining 3 significant digits).  Why?  It turns out that $\\bar{p}(x)$ requires fewer arithmetic operations to compute than $p(x)$ and this results in a smaller accumulation of roundoff errors.    \n",
    "\n",
    "Let's generalize this to a generic polynomial in an [algorithm usually attributed to William Horner](https://en.wikipedia.org/wiki/Horner%27s_method#:~:text=In%20mathematics%20and%20computer%20science%2C%20Horner%27s%20method%20%28or,hundreds%20of%20years%20to%20Chinese%20and%20Persian%20mathematicians.).  There is evidence, however, that it is actually much older.\n",
    "\n",
    "## Horner's Algorithm (a.k.a. \"nested multiplication\")\n",
    "\n",
    "To evaluate the polynomial  \n",
    "\n",
    "$$p(x) = a_{n-1} x^{n-1} + a_{n-2} x^{n-2} + ... + a_1 x + a_0,$$  \n",
    "\n",
    "first rewrite it in the form:  \n",
    "\n",
    "$$p(x) = ((...((a_{n-1} x + a_{n-2})x+a_{n-3})x+...)x+a_1)x + a_0.$$\n",
    "\n",
    "Note that, without loss of generality and in anticipation of coding this up, the coefficiencts have been labelled from $0$ to $n-1$ rather than $0$ to $n$.  This can now be easily turned into a short python code as follows."
   ]
  },
  {
   "cell_type": "code",
   "execution_count": 29,
   "metadata": {},
   "outputs": [
    {
     "name": "stdout",
     "output_type": "stream",
     "text": [
      "p(x) =  -14.634489\n"
     ]
    }
   ],
   "source": [
    "# Use Horner's algorithm to compute and return the polynomial\n",
    "#    p(x) = a[0] + a[1] x^1 + a[2] x^2 + ... + a[n-1] x^(n-1)\n",
    "# evaluated at x.\n",
    "def horners(a, x):\n",
    "    result = a[len(a)-1]\n",
    "    for i in range(len(a)-2, -1, -1):\n",
    "        result = result*x + a[i]\n",
    "    return result\n",
    " \n",
    "# Let's use the horners function defined above to evaluate the polynomial from the example above\n",
    "coefficients = [-0.147, 3., -6., 1.]\n",
    "x = 4.71\n",
    "\n",
    "print(\"p(x) = \", horners(coefficients, x))"
   ]
  },
  {
   "cell_type": "markdown",
   "metadata": {},
   "source": [
    "To analyze the efficiency of algorithms like this, one usually counts the number of flops.  \n",
    "\n",
    "**flop**: floating point operation consisting of one * and one + (i.e. $a*x+b$ is 1 flop).\n",
    "\n",
    "Comparing Horner's algorithm with the evaluation using the monomial basis it is not too hard to see  \n",
    "\n",
    "| method   |   number of flops |  \n",
    "|----------|----|  \n",
    "| Horner   |    $n$ |  \n",
    "| monomial basis | $2 n -1$ |    \n",
    "\n",
    "The fewer flops involved, the lower the chance for the accumulation of roundoff errors plus you get the bonus of a faster and more efficient program.\n"
   ]
  }
 ],
 "metadata": {
  "kernelspec": {
   "display_name": "Python 3",
   "language": "python",
   "name": "python3"
  },
  "language_info": {
   "codemirror_mode": {
    "name": "ipython",
    "version": 3
   },
   "file_extension": ".py",
   "mimetype": "text/x-python",
   "name": "python",
   "nbconvert_exporter": "python",
   "pygments_lexer": "ipython3",
   "version": "3.8.5"
  }
 },
 "nbformat": 4,
 "nbformat_minor": 5
}