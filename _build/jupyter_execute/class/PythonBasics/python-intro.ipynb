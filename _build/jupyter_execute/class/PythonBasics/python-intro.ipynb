{
 "cells": [
  {
   "cell_type": "code",
   "execution_count": 1,
   "metadata": {},
   "outputs": [],
   "source": []
  },
  {
   "cell_type": "markdown",
   "metadata": {},
   "source": [
    "# Brief introduction to Python\n",
    "\n",
    "\n",
    "````{panels}\n",
    ":column: col-lg-12 p-2\n",
    "\n",
    "\n",
    "```{image} ../../images/logos/Python_logo_and_wordmark.svg\n",
    ":alt: Python\n",
    ":width: 150px\n",
    ":align: right\n",
    "```\n",
    "```{image} ../../images/logos/Jupyter_logo.svg\n",
    ":alt: Jupyter \n",
    ":width: 150px\n",
    ":align: right\n",
    "```\n",
    "\n",
    "**Learning goals:** \n",
    "- To learn the basics of python.\n",
    "- To learn how to use Jupyter Lab/Notebook.\n",
    "\n",
    "**Keywords:** Python, Jupyter Notebook, Jupyter Lab \n",
    "\n",
    "**Associated material:**\n",
    "\n",
    "- [Introduction to Jupyter](./jupyter-intro) with screenshots and explanations of the interface\n",
    "\n",
    "\n",
    "- On the web:\n",
    "  - [Python tutorials for beginners](https://thepythonguru.com/)\n",
    "  - [Python interactive tutorial](https://www.learnpython.org/)\n",
    "  - [Learn Python Programming ](https://pythonbasics.org/)\n",
    "  - [Python Seaborn tutorial (plotting)](https://elitedatascience.com/python-seaborn-tutorial)\n",
    "  - [Python Numpy Tutorial](https://cs231n.github.io/python-numpy-tutorial/)\n",
    "\n",
    "\n",
    "\n",
    "**Important note:** Python 2 has been phased out. The last release was python 2.7.18 on April 20, 2020. The latest release (Nov. 2020) is python 3.9). The codes in this section have been tested with python 3.8.\n",
    "\n",
    "<!--\n",
    "### Resources for more information\n",
    "\n",
    "- [Python language reference](http://docs.python.org/index.html)\n",
    "- [Python programming](http://en.wikibooks.org/wiki/Python_Programming)\n",
    "- [Introduction to Python for Undergraduate Engineers](http://en.wikibooks.org/wiki/An_Introduction_to_Python_For_Undergraduate_Engineers)\n",
    "- [Python tutorial](https://www.w3schools.com/python/default.asp)\n",
    "-->\n",
    "\n",
    "````\n",
    "\n"
   ]
  },
  {
   "cell_type": "markdown",
   "metadata": {},
   "source": [
    "## Python, what is it good for?\n",
    "\n",
    "<div class=\"bg-light text-info border border-info\">\n",
    "<small>\n",
    "    \n",
    "```{epigraph}    \n",
    "War, what is it good for? Absolutely nothing! Ho!\" \n",
    "\n",
    "-- Elaine Benes in Seinfeld\n",
    "```\n",
    "    \n",
    "</small></div>\n",
    "\n",
    "```{dropdown} Seinfeld: War, What Is It Good For? (Clip) \n",
    "<iframe width=\"560\" height=\"315\" src=\"https://www.youtube-nocookie.com/embed/qqS1Ty79mOE\" frameborder=\"0\" allow=\"accelerometer; autoplay; clipboard-write; encrypted-media; gyroscope; picture-in-picture\" allowfullscreen></iframe>\n",
    "```\n",
    "\n",
    "<hr>\n"
   ]
  },
  {
   "cell_type": "markdown",
   "metadata": {},
   "source": [
    "\n",
    "Since its introduction in 1998, Python has become one of the word's most popular programming languages and often required for jobs that involve any  programming.\n",
    "\n",
    "Python is modern a interpreted language, as opposed to compiled programming languages such as C, C++, Fortran, Pascal, and so on. Being an interpreted language means that a Python interpreter reads the code line-by-line as it is executed. In contrast, a compiled language has to be run through a compiler to produce an executable program. The compiled executable works only on the platform where it was compiled, but a code that is interpreted is more portable between different platforms. \n",
    "\n",
    "```{image} ../../images/Guido_van_Rossum.jpg\n",
    ":alt: Guido van Rossum\n",
    ":width: 200px\n",
    ":align: right\n",
    "```\n",
    "\n",
    "\n",
    "Python was originally created by [Guido van Rossum](https://en.wikipedia.org/wiki/Guido_van_Rossum), a Dutch programmer. The first Python implementation was done in December 1989 by van Rossum – to keep himself busy, as he says. Current version of Python is 3 and, importantly,  Python 2 has been deprecated and won't be maintained after 2020. \n",
    "\n",
    "Below, some properties of Python are listed. If they do not sound familiar, do not worry as we will learn them along the course.\n",
    "\n",
    "__Properties:__\n",
    " - General purpose and Jupyter provides interactivity, free and open source\n",
    " - Dynamically typed (as opposed to statically typed). This means that one doesn't have to declare variables.\n",
    " - Object oriented\n",
    " - Portable (Linux, Unix, OSX, Windows, mobile phones...)\n",
    " - Versatile. Python is used in an enormous number of different applications, commercially, in research and in industry\n",
    " - Easy to learn. This is indeed the case! The barrier to start using Python is very low.\n",
    " - Extensible, it uses modules. The number of available modules is very large.\n",
    "\n",
    "__Disadvantages:__\n",
    "\n",
    " - Speed can be an issue since Python is an *[interpreted language](https://en.wikipedia.org/wiki/Interpreted_language)*. \n",
    " However, there are efficient libraries and the possibility use tools such as [Cython](https://en.wikipedia.org/wiki/Cython) and even GPUs.\n",
    "\n",
    "__Famous examples/applications/users:__\n",
    " - YouTube, reddit, Yahoo, Google (Gmail, Groups, Maps), CERN, NASA\n",
    " - Part of the core components in Linux distributions\n",
    " - Information security industry\n",
    " - Applications such as Abaqus, Gimp, Inkscape, Spotify...\n",
    "\n",
    "__Huge number of modules and libraries. Examples:__\n",
    " - [SciPy](https://www.scipy.org/), [Biopython](https://biopython.org/), [NumPy](https://numpy.org/), [Matplotlib](https://matplotlib.org/), [Sage](https://www.sagemath.org/), [Tensorflow](https://www.tensorflow.org/), [Chempy](https://github.com/bjodah/chempy), [MDAnalysis](https://www.mdanalysis.org/), [pyEMMA](http://emma-project.org), [RDKit](https://www.rdkit.org), [nglview](http://nglviewer.org/nglview/latest/), [DeepChem](https://github.com/deepchem/deepchem)\n",
    "\n",
    "\n",
    "__Used a scripting language in:__\n",
    " - [Blender](https://www.blender.org/), [Gimp](https://www.gimp.org/), [Inkscape](https://inkscape.org/), Totem, SPSS, [PyMOL](https://pymol.org)\n",
    "\n",
    "__Other:__\n",
    " - Jython: compiler that produces Java byte code from a python code\n",
    " - PyS60: Symbian [obsolete now] phones\n",
    " - Python for Android\n",
    "\n",
    "It is hard to tell exactly how popular Python is (since it is not easy to define a good metric), but in both StackExchange and [Github](https://github.com/) it ranks among the most popular ones. When it comes to programming and programming languages, it is good to keep in mind the following quotation:\n",
    "\n",
    "<div class=\"bg-light text-info border border-info\">\n",
    "<small>\n",
    "    \n",
    "```{epigraph}    \n",
    "*There are only two kinds of programming languages: those people always bitch about and those nobody uses.*\n",
    "\n",
    "-- Bjarne Stroustrup, developer of C++\n",
    "```\n",
    "</small>\n",
    "</div><P></p>\n",
    "\n",
    "### Python vs other languages\n",
    "\n",
    " - [Language comparisons](http://wiki.python.org/moin/LanguageComparisons)\n",
    " - [More language comparisons](http://pythonconquerstheuniverse.wordpress.com/2009/10/03/python-java-a-side-by-side-comparison/)\n",
    " \n"
   ]
  },
  {
   "cell_type": "markdown",
   "metadata": {},
   "source": [
    "## Python basics – the necessary prerequisites\n",
    "\n",
    "Let's get into Python. As mentioned above, it is very easy to start using it. We have to, however, understand a few basic things. The aim here is not programming in a broad sense but rather to use python for various simple tasks. Topic such as [*object oriented programming*](https://en.wikipedia.org/wiki/Object-oriented_programming) will not be covered, the emphasis is put on simple data analysis an providing code snippets that can be re-used, for example, in analyses of experimental and computational data, in producing high quality plots for manuscripts, theses, talks and posters, and in using modules and packages for tasks such as [Markov analysis](https://en.wikipedia.org/wiki/Markov_model) and [machine learning](https://en.wikipedia.org/wiki/Machine_learning). This part gives a very brief introduction and jump start to python. That is done in practise in mind: This section shows some plotting techniques for data generated inside python as well as for data that is read from a file/files. A few of the most important modules are briefly introduced: [matplotlib](https://matplotlib.org/) and [Seaborn](https://seaborn.pydata.org/) for plotting, [numpy](https://numpy.org/) for handling array data and [pandas](https://en.wikipedia.org/wiki/Markov_model) for statistical analyses. More will introduced as we progress. One important point is that python is a very versatile language and the number built-in and contributed modules is enormous. It is impossible to know all, or even a reasonable fraction, of them. Instead, it is very important to know how to search for information *and* how to use it. It is also very important to keep the following advice in mind:\n",
    "\n",
    "<div class=\"bg-light text-info border border-info\">\n",
    "<small>\n",
    "\n",
    "```{epigraph}\n",
    "*First, solve the problem. Then, write the code.*\n",
    "\n",
    "--John Johnson\n",
    "```\n",
    "    \n",
    "</small></div><p></p>    \n",
    "    \n",
    "It may sound strange at first sight, but the statement is very important. One cannot start from writing a code but instead, there must be an idea as what is being analyzed or simulated. There is also the question if the code will be used only for a few times on a particular task or if it will be something that will be used frequently and by several users. It is also *absolutely vital* to verify even the simplest codes against known results/data. \n",
    "\n",
    "Methods are common throughout the fields. For example, the [Monte Carlo method](https://en.wikipedia.org/wiki/Monte_Carlo_method) is used to optimize public transportation schedules, design of integrated circuits, used in modeling quantum phenomena, to mention a few applications. Similarly, machine learning is used in everything from image processing to analyzing protein conformations and optimization methods are used in virtually all fields. \n",
    "\n",
    "**More:**\n",
    "- [Some general notes on programming](./coding-notes-general.md)"
   ]
  },
  {
   "cell_type": "markdown",
   "metadata": {},
   "source": [
    "## How to use the rest of this section\n",
    "\n",
    "The best way to learn is to try out the code snippets. That can be done in Jupyter notebook (that is the assumption here) or using `spyder` or such, or even plain `python terminal`. When using [Jupyter Lab](https://jupyter.org/), one should be aware that once a kernel has been executed, the definitions become available throughout the notebook and that is sometimes a bit deceiving for tracking dependencies. In such a case, interrupting and re-running the kernel should clarify the situation.\n",
    "\n",
    "Some execution cells have pieces that are commented out. In some cases that is done to avoid long outputs, but it is very good to try them out.\n",
    "\n",
    "Since we have already installed and open Jupyter Lab, let's do that again. Open Jupyter Lab from your program menu or command line depending which operating system or/and installation method you used. The code snippets below are to be executed in Jupyter Lab.\n"
   ]
  },
  {
   "cell_type": "markdown",
   "metadata": {},
   "source": [
    "### Install Python virtual environment\n",
    "\n",
    "\n",
    "It is a very good idea to use Python virtual environments. See the topic in the panel on the left hand side."
   ]
  },
  {
   "cell_type": "markdown",
   "metadata": {},
   "source": [
    "### Getting help\n",
    "\n",
    "At this point you should have Jupyter Lab open and a notebook running in it. Remember to give the notebook a name and save it regularly.\n",
    "\n",
    "Below is an easy way to get help. We will elaborate on it later."
   ]
  },
  {
   "cell_type": "code",
   "execution_count": 1,
   "metadata": {
    "tags": [
     "hide-output"
    ]
   },
   "outputs": [
    {
     "name": "stdout",
     "output_type": "stream",
     "text": [
      "\n",
      "Welcome to Python 3.8's help utility!\n",
      "\n",
      "If this is your first time using Python, you should definitely check out\n",
      "the tutorial on the Internet at https://docs.python.org/3.8/tutorial/.\n",
      "\n",
      "Enter the name of any module, keyword, or topic to get help on writing\n",
      "Python programs and using Python modules.  To quit this help utility and\n",
      "return to the interpreter, just type \"quit\".\n",
      "\n",
      "To get a list of available modules, keywords, symbols, or topics, type\n",
      "\"modules\", \"keywords\", \"symbols\", or \"topics\".  Each module also comes\n",
      "with a one-line summary of what it does; to list the modules whose name\n",
      "or summary contain a given string such as \"spam\", type \"modules spam\".\n",
      "\n"
     ]
    },
    {
     "ename": "StdinNotImplementedError",
     "evalue": "raw_input was called, but this frontend does not support input requests.",
     "output_type": "error",
     "traceback": [
      "\u001b[0;31m---------------------------------------------------------------------------\u001b[0m",
      "\u001b[0;31mStdinNotImplementedError\u001b[0m                  Traceback (most recent call last)",
      "Input \u001b[0;32mIn [1]\u001b[0m, in \u001b[0;36m<cell line: 6>\u001b[0;34m()\u001b[0m\n\u001b[1;32m      1\u001b[0m \u001b[38;5;66;03m# Important: Try the command in the Code cells in your own notebook. \u001b[39;00m\n\u001b[1;32m      2\u001b[0m \u001b[38;5;66;03m# The hashtag (#) character starts a comment.\u001b[39;00m\n\u001b[1;32m      3\u001b[0m \u001b[38;5;66;03m# Note that if a comment is put in the middle of a Code cell, everything that is after it\u001b[39;00m\n\u001b[1;32m      4\u001b[0m \u001b[38;5;66;03m# is ignored by the interpreter.\u001b[39;00m\n\u001b[0;32m----> 6\u001b[0m \u001b[43mhelp\u001b[49m\u001b[43m(\u001b[49m\u001b[43m)\u001b[49m\n",
      "File \u001b[0;32m~/anaconda3/lib/python3.8/_sitebuiltins.py:103\u001b[0m, in \u001b[0;36m_Helper.__call__\u001b[0;34m(self, *args, **kwds)\u001b[0m\n\u001b[1;32m    101\u001b[0m \u001b[38;5;28;01mdef\u001b[39;00m \u001b[38;5;21m__call__\u001b[39m(\u001b[38;5;28mself\u001b[39m, \u001b[38;5;241m*\u001b[39margs, \u001b[38;5;241m*\u001b[39m\u001b[38;5;241m*\u001b[39mkwds):\n\u001b[1;32m    102\u001b[0m     \u001b[38;5;28;01mimport\u001b[39;00m \u001b[38;5;21;01mpydoc\u001b[39;00m\n\u001b[0;32m--> 103\u001b[0m     \u001b[38;5;28;01mreturn\u001b[39;00m \u001b[43mpydoc\u001b[49m\u001b[38;5;241;43m.\u001b[39;49m\u001b[43mhelp\u001b[49m\u001b[43m(\u001b[49m\u001b[38;5;241;43m*\u001b[39;49m\u001b[43margs\u001b[49m\u001b[43m,\u001b[49m\u001b[43m \u001b[49m\u001b[38;5;241;43m*\u001b[39;49m\u001b[38;5;241;43m*\u001b[39;49m\u001b[43mkwds\u001b[49m\u001b[43m)\u001b[49m\n",
      "File \u001b[0;32m~/anaconda3/lib/python3.8/pydoc.py:1911\u001b[0m, in \u001b[0;36mHelper.__call__\u001b[0;34m(self, request)\u001b[0m\n\u001b[1;32m   1909\u001b[0m         \u001b[38;5;28;01melse\u001b[39;00m:\n\u001b[1;32m   1910\u001b[0m             \u001b[38;5;28mself\u001b[39m\u001b[38;5;241m.\u001b[39mintro()\n\u001b[0;32m-> 1911\u001b[0m             \u001b[38;5;28;43mself\u001b[39;49m\u001b[38;5;241;43m.\u001b[39;49m\u001b[43minteract\u001b[49m\u001b[43m(\u001b[49m\u001b[43m)\u001b[49m\n\u001b[1;32m   1912\u001b[0m             \u001b[38;5;28mself\u001b[39m\u001b[38;5;241m.\u001b[39moutput\u001b[38;5;241m.\u001b[39mwrite(\u001b[38;5;124m'''\u001b[39m\n\u001b[1;32m   1913\u001b[0m \u001b[38;5;124mYou are now leaving help and returning to the Python interpreter.\u001b[39m\n\u001b[1;32m   1914\u001b[0m \u001b[38;5;124mIf you want to ask for help on a particular object directly from the\u001b[39m\n\u001b[1;32m   1915\u001b[0m \u001b[38;5;124minterpreter, you can type \u001b[39m\u001b[38;5;124m\"\u001b[39m\u001b[38;5;124mhelp(object)\u001b[39m\u001b[38;5;124m\"\u001b[39m\u001b[38;5;124m.  Executing \u001b[39m\u001b[38;5;124m\"\u001b[39m\u001b[38;5;124mhelp(\u001b[39m\u001b[38;5;124m'\u001b[39m\u001b[38;5;124mstring\u001b[39m\u001b[38;5;124m'\u001b[39m\u001b[38;5;124m)\u001b[39m\u001b[38;5;124m\"\u001b[39m\n\u001b[1;32m   1916\u001b[0m \u001b[38;5;124mhas the same effect as typing a particular string at the help> prompt.\u001b[39m\n\u001b[1;32m   1917\u001b[0m \u001b[38;5;124m'''\u001b[39m)\n",
      "File \u001b[0;32m~/anaconda3/lib/python3.8/pydoc.py:1923\u001b[0m, in \u001b[0;36mHelper.interact\u001b[0;34m(self)\u001b[0m\n\u001b[1;32m   1921\u001b[0m \u001b[38;5;28;01mwhile\u001b[39;00m \u001b[38;5;28;01mTrue\u001b[39;00m:\n\u001b[1;32m   1922\u001b[0m     \u001b[38;5;28;01mtry\u001b[39;00m:\n\u001b[0;32m-> 1923\u001b[0m         request \u001b[38;5;241m=\u001b[39m \u001b[38;5;28;43mself\u001b[39;49m\u001b[38;5;241;43m.\u001b[39;49m\u001b[43mgetline\u001b[49m\u001b[43m(\u001b[49m\u001b[38;5;124;43m'\u001b[39;49m\u001b[38;5;124;43mhelp> \u001b[39;49m\u001b[38;5;124;43m'\u001b[39;49m\u001b[43m)\u001b[49m\n\u001b[1;32m   1924\u001b[0m         \u001b[38;5;28;01mif\u001b[39;00m \u001b[38;5;129;01mnot\u001b[39;00m request: \u001b[38;5;28;01mbreak\u001b[39;00m\n\u001b[1;32m   1925\u001b[0m     \u001b[38;5;28;01mexcept\u001b[39;00m (\u001b[38;5;167;01mKeyboardInterrupt\u001b[39;00m, \u001b[38;5;167;01mEOFError\u001b[39;00m):\n",
      "File \u001b[0;32m~/anaconda3/lib/python3.8/pydoc.py:1943\u001b[0m, in \u001b[0;36mHelper.getline\u001b[0;34m(self, prompt)\u001b[0m\n\u001b[1;32m   1941\u001b[0m \u001b[38;5;124;03m\"\"\"Read one line, using input() when appropriate.\"\"\"\u001b[39;00m\n\u001b[1;32m   1942\u001b[0m \u001b[38;5;28;01mif\u001b[39;00m \u001b[38;5;28mself\u001b[39m\u001b[38;5;241m.\u001b[39minput \u001b[38;5;129;01mis\u001b[39;00m sys\u001b[38;5;241m.\u001b[39mstdin:\n\u001b[0;32m-> 1943\u001b[0m     \u001b[38;5;28;01mreturn\u001b[39;00m \u001b[38;5;28;43minput\u001b[39;49m\u001b[43m(\u001b[49m\u001b[43mprompt\u001b[49m\u001b[43m)\u001b[49m\n\u001b[1;32m   1944\u001b[0m \u001b[38;5;28;01melse\u001b[39;00m:\n\u001b[1;32m   1945\u001b[0m     \u001b[38;5;28mself\u001b[39m\u001b[38;5;241m.\u001b[39moutput\u001b[38;5;241m.\u001b[39mwrite(prompt)\n",
      "File \u001b[0;32m~/.local/lib/python3.8/site-packages/ipykernel/kernelbase.py:854\u001b[0m, in \u001b[0;36mKernel.raw_input\u001b[0;34m(self, prompt)\u001b[0m\n\u001b[1;32m    847\u001b[0m \u001b[38;5;124;03m\"\"\"Forward raw_input to frontends\u001b[39;00m\n\u001b[1;32m    848\u001b[0m \n\u001b[1;32m    849\u001b[0m \u001b[38;5;124;03mRaises\u001b[39;00m\n\u001b[1;32m    850\u001b[0m \u001b[38;5;124;03m------\u001b[39;00m\n\u001b[1;32m    851\u001b[0m \u001b[38;5;124;03mStdinNotImplentedError if active frontend doesn't support stdin.\u001b[39;00m\n\u001b[1;32m    852\u001b[0m \u001b[38;5;124;03m\"\"\"\u001b[39;00m\n\u001b[1;32m    853\u001b[0m \u001b[38;5;28;01mif\u001b[39;00m \u001b[38;5;129;01mnot\u001b[39;00m \u001b[38;5;28mself\u001b[39m\u001b[38;5;241m.\u001b[39m_allow_stdin:\n\u001b[0;32m--> 854\u001b[0m     \u001b[38;5;28;01mraise\u001b[39;00m StdinNotImplementedError(\n\u001b[1;32m    855\u001b[0m         \u001b[38;5;124m\"\u001b[39m\u001b[38;5;124mraw_input was called, but this frontend does not support input requests.\u001b[39m\u001b[38;5;124m\"\u001b[39m\n\u001b[1;32m    856\u001b[0m     )\n\u001b[1;32m    857\u001b[0m \u001b[38;5;28;01mreturn\u001b[39;00m \u001b[38;5;28mself\u001b[39m\u001b[38;5;241m.\u001b[39m_input_request(\u001b[38;5;28mstr\u001b[39m(prompt),\n\u001b[1;32m    858\u001b[0m     \u001b[38;5;28mself\u001b[39m\u001b[38;5;241m.\u001b[39m_parent_ident,\n\u001b[1;32m    859\u001b[0m     \u001b[38;5;28mself\u001b[39m\u001b[38;5;241m.\u001b[39m_parent_header,\n\u001b[1;32m    860\u001b[0m     password\u001b[38;5;241m=\u001b[39m\u001b[38;5;28;01mFalse\u001b[39;00m,\n\u001b[1;32m    861\u001b[0m )\n",
      "\u001b[0;31mStdinNotImplementedError\u001b[0m: raw_input was called, but this frontend does not support input requests."
     ]
    }
   ],
   "source": [
    "# Important: Try the command in the Code cells in your own notebook. \n",
    "# The hashtag (#) character starts a comment.\n",
    "# Note that if a comment is put in the middle of a Code cell, everything that is after it\n",
    "# is ignored by the interpreter.\n",
    "\n",
    "help()"
   ]
  },
  {
   "cell_type": "markdown",
   "metadata": {},
   "source": [
    "### Variables and data types\n",
    "\n",
    "Below, we will discuss the basics of variables in Python. The intention is not to cover all aspects, but enough to get going and to be able to use the concepts efficiently. Note:  a good way to name your variables is to use *descriptive variable names*. There are some restrictions on variable naming and those restrictions will be discussed below.\n",
    "\n",
    "Unlike the usual programming languages such as [C](https://en.wikipedia.org/wiki/C_(programming_language)), [C++](https://en.wikipedia.org/wiki/C%2B%2B) and [Fortran](https://en.wikipedia.org/wiki/Fortran), Python is *dynamically typed*. In *statically typed* languages such as C/C++ and Fortran, the types variables must be known and fixed and cannot be changed. In *dynamically typed* languages such as Python and [javascript](https://en.wikipedia.org/wiki/JavaScript) that is not the case. This means that in addition to the value, the type of a variable may be changed. The second notable difference to languages such as C/C++ is that in Python one not have does declare variables. The type and value of a variable are assigned when the variable used the first time. This is best illustrated by an example (the variable names are arbitrary, the part that indicates the variable type is used for clarity):"
   ]
  },
  {
   "cell_type": "code",
   "execution_count": 3,
   "metadata": {},
   "outputs": [],
   "source": [
    "a_int        = 2                                        # integer\n",
    "a_float      = 2.0                                      # float\n",
    "a_string     = 'Hello world'                            # string\n",
    "a_tuple      = ('CHEM3300G','Chemistry',(24,1,2020))    # tuple\n",
    "a_list       = [1.0, 2.0, 3.0]                          # list\n",
    "a_dictionary = {'Monday':'lundi','Tuesday':'mardi'}     # dictionary"
   ]
  },
  {
   "cell_type": "markdown",
   "metadata": {},
   "source": [
    "Note also that variables are assigned by using the *assignment operator* `=`. In logical comparisons (True/False), the *comparison operator* `==` is used.\n",
    "\n",
    "To see the value of the variable, we must use the command print (if you have used Python 2 before or searched help from the net, notice that in Python 3 brackets are required):\n"
   ]
  },
  {
   "cell_type": "code",
   "execution_count": 4,
   "metadata": {
    "tags": [
     "hide-output"
    ]
   },
   "outputs": [
    {
     "name": "stdout",
     "output_type": "stream",
     "text": [
      "2 2.0\n",
      "Hello world\n",
      "('CHEM3300G', 'Chemistry', (24, 1, 2020))\n",
      "[1.0, 2.0, 3.0]\n",
      "{'Monday': 'lundi', 'Tuesday': 'mardi'}\n"
     ]
    }
   ],
   "source": [
    "print(a_int,a_float)\n",
    "print(a_string)\n",
    "print(a_tuple)\n",
    "print(a_list)\n",
    "print(a_dictionary)"
   ]
  },
  {
   "cell_type": "markdown",
   "metadata": {},
   "source": [
    "You can also just type the variable to see its value (but only one at a time):"
   ]
  },
  {
   "cell_type": "code",
   "execution_count": 5,
   "metadata": {
    "tags": [
     "hide-output"
    ]
   },
   "outputs": [
    {
     "data": {
      "text/plain": [
       "'Hello world'"
      ]
     },
     "execution_count": 5,
     "metadata": {},
     "output_type": "execute_result"
    }
   ],
   "source": [
    "a_string"
   ]
  },
  {
   "cell_type": "markdown",
   "metadata": {},
   "source": [
    "Here are a few things to notice:\n",
    "\n",
    "- Hashtag starts a comment. \n",
    "- Alignment at the beginning of the line matters.Try shifting any of the lines above by one and you will get an error message.\n",
    "- The value of the variable is not echoed (=printed on screen) after it has been assigned. - The above are the most commonly used data types in python. Python has many other useful data types including Fortran-like intrinsic type for complex numbers. Below is a list of some of them with an example of how they are used. We will discuss some of them in more detail in a moment. More information is available at the Python web page."
   ]
  },
  {
   "cell_type": "markdown",
   "metadata": {},
   "source": [
    "**Basic variable types:**\n",
    "1. integer:\n",
    "`a_int = 1`\n",
    "2. float:\n",
    "`a_float = 1.0`\n",
    "3. complex:\n",
    "`a_complex = 1.0+1.0j`\n",
    "4. string:\n",
    "`a_string = 'barley'`"
   ]
  },
  {
   "cell_type": "code",
   "execution_count": 29,
   "metadata": {},
   "outputs": [],
   "source": [
    "a_int = 1\n",
    "a_float = 1.0\n",
    "a_complex = 1.0+1.0j\n",
    "a_string = 'barley'"
   ]
  },
  {
   "cell_type": "markdown",
   "metadata": {},
   "source": [
    "**Compound variable types:**\n",
    "\n",
    "1. list:\n",
    "`a_list = [1.0,2.0,'hops']`\n",
    "2. tuple:\n",
    "`a_tuple = (1.0,2.0,'hops')`\n",
    "3. dictionary:\n",
    "`a_dictionary = {'hops1':'saaz','hops2':'spalt'}`\n",
    "\n"
   ]
  },
  {
   "cell_type": "code",
   "execution_count": 7,
   "metadata": {},
   "outputs": [],
   "source": [
    "a_list = [1.0,2.0,'hops']\n",
    "a_tuple = (1.0,2.0,'hops')\n",
    "a_dictionary = {'hops1':'saaz','hops2':'spalt'}"
   ]
  },
  {
   "cell_type": "markdown",
   "metadata": {},
   "source": [
    "**Execute the above variable assignments** by putting them to a code cell in Jupyter. If you do that and print them out, you will notice that the variables have changed since their first definition above. "
   ]
  },
  {
   "cell_type": "code",
   "execution_count": 8,
   "metadata": {
    "tags": [
     "hide-output"
    ]
   },
   "outputs": [
    {
     "name": "stdout",
     "output_type": "stream",
     "text": [
      "1 1.0\n",
      "barley\n",
      "(1.0, 2.0, 'hops')\n",
      "[1.0, 2.0, 'hops']\n",
      "{'hops1': 'saaz', 'hops2': 'spalt'}\n"
     ]
    }
   ],
   "source": [
    "print(a_int,a_float)\n",
    "print(a_string)\n",
    "print(a_tuple)\n",
    "print(a_list)\n",
    "print(a_dictionary)"
   ]
  },
  {
   "cell_type": "markdown",
   "metadata": {},
   "source": [
    "As you notice, tuple, list and dictionary use different brackets and for the type dictionary the syntax relates the two values separated by a semicolon and comma separates list items. We will discuss these data types in more detail below."
   ]
  },
  {
   "cell_type": "markdown",
   "metadata": {},
   "source": [
    "**Mutable and immutable data types:**\n",
    "\n",
    "There is one important issue that should be mentioned here: Data types are divided into *mutable* and *immutable*. The content of a *mutable* variable can be changed. Dictionary and list are *mutable data types*.  String, integer, float and tuple are *immutable data types*. The key to understanding the difference is to understand that *everything* in Python is an object. We will discuss this issue with examples when we progress."
   ]
  },
  {
   "cell_type": "markdown",
   "metadata": {},
   "source": [
    "### Keywords, variable names and first touch of `import`\n",
    "\n",
    "Python is very flexible with variable names but there are some restrictions. Here is a brief summary:\n",
    "\n",
    "- allowed: variable names can be of arbitrary length\n",
    "- allowed: both letters and numbers\n",
    "- allowed: the character underscore (`_`)\n",
    "- not allowed: the character `@` \n",
    "- not allowed: spaces\n",
    "- distinction: there is a distinction (like in C/C++) between upper and lower case. Both are allowed. \n",
    "- restriction: variable names must start with letter\n",
    "- not allowed: variable names cannot be one of the _keywords_ (see below)\n",
    "\n",
    "There are recommendations for good programming style in python. \n",
    " \n",
    "We can *import* the *module* `keyword` as given below and check the. There are an enormous amount of modules for various purposes. This import mechanism makes python extremely flexible. We will use this mechanism extensively and discuss matters as they arise. For now, take this as an example how to import a module and how to call them. \n",
    "`keyword` is a *built-in module*. Modules typically contain *functions* or *methods* and they called using the *dot operator* (`.`). Below, we import the module `keyword` and then call the function `kwlist` from it. \n",
    "\n",
    "`import`: the command `import` provides a mechanism to *import* or bring in libraries, modules, packages or your own code that is in a separate file. This is very powerful and it is the main mechanism for bringing in libraries and modules to your code. In the next cell, we use the command `import keyword` to import *module* called `keyword`. That module provides the list of the reserved Python keywords. It also provides a mechanism to check if a word belongs to reserved Python keywords. There are also other ways for importing but the command `import` is the most common one."
   ]
  },
  {
   "cell_type": "code",
   "execution_count": 21,
   "metadata": {
    "tags": [
     "hide-output"
    ]
   },
   "outputs": [
    {
     "name": "stdout",
     "output_type": "stream",
     "text": [
      "['False', 'None', 'True', 'and', 'as', 'assert', 'async', 'await', 'break', 'class', 'continue', 'def', 'del', 'elif', 'else', 'except', 'finally', 'for', 'from', 'global', 'if', 'import', 'in', 'is', 'lambda', 'nonlocal', 'not', 'or', 'pass', 'raise', 'return', 'try', 'while', 'with', 'yield']\n",
      "The number of keywords: 35\n",
      "The keywords are: \n",
      " <class 'list'>\n",
      "Is coffee a Python keyword? False\n"
     ]
    }
   ],
   "source": [
    "## These are Python keywords that are not allowed as variable names.\n",
    "\n",
    "import keyword                                          # import keyword module. It is a built-in one.\n",
    "print (keyword.kwlist)                                  # Print out the list of reserved keywords.\n",
    "print ('The number of keywords:', len(keyword.kwlist))  # How many keywords are there?.\n",
    "print ('The keywords are: \\n',type(keyword.kwlist))     # Just for curiosity, what the data type?\n",
    "\n",
    "test_word = \"coffee\"                                    # define a variable for testing \n",
    "print(\"Is\",test_word,\"a Python keyword?\", keyword.iskeyword(test_word))"
   ]
  },
  {
   "cell_type": "markdown",
   "metadata": {},
   "source": [
    "One question that may come to mind is: How did you know the commands `keyword.kwlist` and `keyword.iskeyword`? The `help` command tells it. In addition, when called a function from a module, one needs to use the name of the module like we did above (for example: `keyword.kwlist`). \n",
    "\n",
    "\n",
    "Some other obvious questions are: 1) what are the built-in functions, 2) how to know what the *methods associated with each of the modules* are and 3) how does one get more modules. There is help. Uncomment the ones below one-by-one and execute the cell\n"
   ]
  },
  {
   "cell_type": "code",
   "execution_count": 10,
   "metadata": {},
   "outputs": [],
   "source": [
    "## Uncomment one-by-one or run these in different cells\n",
    "\n",
    "#help(\"keyword\")     # help on the module 'keyword'. Try also help(\"keywords\")\n",
    "#help(\"builtins\")    # help on build-ins \n",
    "#help(\"modules\")     # this will list all the modules that are installed (can be massive)"
   ]
  },
  {
   "cell_type": "markdown",
   "metadata": {},
   "source": [
    "### Integers & floats\n",
    "\n",
    "Integers are the simplest data type. Let's assign some integers (when the decimal point is not given, the type is defined as an integer), change the value of one of them and then perform a simple division:"
   ]
  },
  {
   "cell_type": "code",
   "execution_count": 16,
   "metadata": {
    "tags": [
     "hide-output"
    ]
   },
   "outputs": [
    {
     "name": "stdout",
     "output_type": "stream",
     "text": [
      "2 4 3\n"
     ]
    }
   ],
   "source": [
    "a=2\n",
    "b=4\n",
    "c=3\n",
    "print(a,b,c)"
   ]
  },
  {
   "cell_type": "code",
   "execution_count": 20,
   "metadata": {
    "tags": [
     "hide-output"
    ]
   },
   "outputs": [
    {
     "name": "stdout",
     "output_type": "stream",
     "text": [
      "7 2.3333333333333335 1 2\n"
     ]
    }
   ],
   "source": [
    "a   = 7\n",
    "d   = a/c\n",
    "dd  = a%c\n",
    "ddd = a//c\n",
    "print(a,d,dd,ddd)"
   ]
  },
  {
   "cell_type": "markdown",
   "metadata": {},
   "source": [
    "The above seems quite mundane, but there is one important matter: The variable `d` is formed by dividing `a` by `c`. Both `a` and `c` are integers but `d` is a float. This may not see remarkable but in Python 2 as well as many in some other languages division of two integers (modulo operation) gives an integer. In Python 3 this is not the case and this can cause some trouble when converting from old Python 2 code to Python 3: In Python 2, Fortran and C/C++, the division `a/c` would yield 2 instead of 2.3333. The operator `%` gives the remainder and the operator `//` takes the modulo of the quotient. Note also the following:"
   ]
  },
  {
   "cell_type": "code",
   "execution_count": 13,
   "metadata": {
    "tags": [
     "hide-output"
    ]
   },
   "outputs": [
    {
     "name": "stdout",
     "output_type": "stream",
     "text": [
      "8 <class 'int'>\n",
      "8 <class 'int'> <class 'float'>\n"
     ]
    }
   ],
   "source": [
    "aa = a+1\n",
    "print(aa, type(aa))\n",
    "bb = aa+1.0\n",
    "print(aa, type(aa),type(bb))"
   ]
  },
  {
   "cell_type": "markdown",
   "metadata": {},
   "source": [
    "Here we have printed out the *value* and *type*. Adding and integer to an integer yields an integer but adding a float to an integer yields a float. As discussed above, Python is *dynamically typed* and this is an example of *type reassignment*. This is not possible in C, C++ or Fortran; with those programming languages you may or may not get an error message during compilation (depending on your compiler)."
   ]
  },
  {
   "cell_type": "markdown",
   "metadata": {},
   "source": [
    "### Strings and slicing operator\n",
    "\n",
    "Strings are, as the name suggests, strings of characters. In Python, they defined by single quotes (double quotes work). Note that if a number is within a string Python sees it as a character (text) and *not* as a number. Recall the string variable we used above:"
   ]
  },
  {
   "cell_type": "code",
   "execution_count": 14,
   "metadata": {
    "tags": [
     "hide-output"
    ]
   },
   "outputs": [
    {
     "name": "stdout",
     "output_type": "stream",
     "text": [
      "barley\n",
      "<class 'str'>\n"
     ]
    }
   ],
   "source": [
    "a_string = 'barley'    # One can use either simple or double quotes\n",
    "print(a_string)\n",
    "print(type(a_string))"
   ]
  },
  {
   "cell_type": "markdown",
   "metadata": {},
   "source": [
    "We can add strings together, or concatenated, using `+`:"
   ]
  },
  {
   "cell_type": "code",
   "execution_count": 15,
   "metadata": {
    "tags": [
     "hide-output"
    ]
   },
   "outputs": [
    {
     "name": "stdout",
     "output_type": "stream",
     "text": [
      "barley is important for brewing\n"
     ]
    }
   ],
   "source": [
    "a_string = a_string + ' is important for brewing'\n",
    "print(a_string)"
   ]
  },
  {
   "cell_type": "markdown",
   "metadata": {},
   "source": [
    "Note also that that if you execute the cell several times, it keeps adding to itself (try it out, just re-execute the Jupyter cell for a few times. Let's re-assign the variable (in case you did  re-execute the Jupyter cell). This is how to change line (notice the space or lack of it after `\\n`:"
   ]
  },
  {
   "cell_type": "code",
   "execution_count": 16,
   "metadata": {
    "tags": [
     "hide-output"
    ]
   },
   "outputs": [
    {
     "name": "stdout",
     "output_type": "stream",
     "text": [
      "barley\n",
      "is important for brewing\n",
      " and hops are needed too\n"
     ]
    }
   ],
   "source": [
    "a_string = 'barley'\n",
    "a_string = a_string + '\\nis important for brewing' + '\\n and hops are needed too'\n",
    "print(a_string)"
   ]
  },
  {
   "cell_type": "markdown",
   "metadata": {},
   "source": [
    "Since quotations are used to define strings, one needs to *escape* them if one wants to use quotation marks as part of the string:"
   ]
  },
  {
   "cell_type": "code",
   "execution_count": 25,
   "metadata": {
    "tags": [
     "hide-output"
    ]
   },
   "outputs": [
    {
     "name": "stdout",
     "output_type": "stream",
     "text": [
      "Barley is \"good\" for you.\n"
     ]
    }
   ],
   "source": [
    "b_string = \"Barley is \\\"good\\\" for you.\"\n",
    "print(b_string)"
   ]
  },
  {
   "cell_type": "markdown",
   "metadata": {},
   "source": [
    "We can also access elements of a string very easily by calling the index. Like in C/C++ (and unlike in Fortran), indexing starts from zero. To call the second element, "
   ]
  },
  {
   "cell_type": "code",
   "execution_count": 17,
   "metadata": {
    "tags": [
     "hide-output"
    ]
   },
   "outputs": [
    {
     "name": "stdout",
     "output_type": "stream",
     "text": [
      "a\n"
     ]
    }
   ],
   "source": [
    "print(a_string[1])"
   ]
  },
  {
   "cell_type": "markdown",
   "metadata": {},
   "source": [
    "**Slicing:** There is more to strings: We can use the *slicing operator* to access parts of a string. The syntax is \n",
    "```\n",
    "varname[start:stop:step]\n",
    "``` \n",
    "Let's try this:"
   ]
  },
  {
   "cell_type": "code",
   "execution_count": 28,
   "metadata": {
    "tags": [
     "hide-output"
    ]
   },
   "outputs": [
    {
     "name": "stdout",
     "output_type": "stream",
     "text": [
      "Original string: Hello world \n",
      "\n",
      "\n",
      "Sliced string: Hello wor \n",
      "\n",
      "Sliced string with a step of two: Hlowr\n"
     ]
    }
   ],
   "source": [
    "print('Original string:', a_string,'\\n\\n')\n",
    "print('Sliced string:',a_string[0:9],'\\n')\n",
    "print('Sliced string with a step of two:',a_string[0:9:2])"
   ]
  },
  {
   "cell_type": "markdown",
   "metadata": {
    "tags": [
     "hide-output"
    ]
   },
   "source": [
    "Slicing is very useful in many tasks. Here's a short summary how it works and check the you understand the output:"
   ]
  },
  {
   "cell_type": "code",
   "execution_count": 30,
   "metadata": {
    "tags": [
     "hide-output"
    ]
   },
   "outputs": [
    {
     "name": "stdout",
     "output_type": "stream",
     "text": [
      "La Femme is a French band\n",
      "La F\n",
      "mme is a French band\n",
      "L e\n",
      "aFmei  rnhbn\n"
     ]
    }
   ],
   "source": [
    "b_string = 'La Femme is a French band'\n",
    "print(b_string)        # print the variable\n",
    "print(b_string[0:4])   # print the 5 first characters\n",
    "print(b_string[5:])    # print elements from the 6th element till the end\n",
    "print(b_string[0:6:2]) # the the 7 first characters skipping every second\n",
    "print(b_string[1::2])  # print every 2nd element starting from the second (index 1)"
   ]
  },
  {
   "cell_type": "markdown",
   "metadata": {},
   "source": [
    "There is one more thing to notice. Strings are immutable data types. This means that once we define a string, its elements cannot be changed. This is best illustrated by an example. Let's try to delete the second element:"
   ]
  },
  {
   "cell_type": "code",
   "execution_count": 31,
   "metadata": {
    "tags": [
     "hide-output"
    ]
   },
   "outputs": [
    {
     "ename": "TypeError",
     "evalue": "'str' object doesn't support item deletion",
     "output_type": "error",
     "traceback": [
      "\u001b[0;31m---------------------------------------------------------------------------\u001b[0m",
      "\u001b[0;31mTypeError\u001b[0m                                 Traceback (most recent call last)",
      "\u001b[0;32m<ipython-input-31-f90e9bc1070f>\u001b[0m in \u001b[0;36m<module>\u001b[0;34m\u001b[0m\n\u001b[0;32m----> 1\u001b[0;31m \u001b[0;32mdel\u001b[0m \u001b[0mb_string\u001b[0m\u001b[0;34m[\u001b[0m\u001b[0;36m1\u001b[0m\u001b[0;34m]\u001b[0m\u001b[0;34m\u001b[0m\u001b[0;34m\u001b[0m\u001b[0m\n\u001b[0m",
      "\u001b[0;31mTypeError\u001b[0m: 'str' object doesn't support item deletion"
     ]
    }
   ],
   "source": [
    "del b_string[1]"
   ]
  },
  {
   "cell_type": "markdown",
   "metadata": {},
   "source": [
    "It doesn't work since strings are immutable. We can, of course delete the whole variable. Let's do that and try to print and we see that the error message is a results of the fact that after deletion the variable `b_string` no longer exists:"
   ]
  },
  {
   "cell_type": "code",
   "execution_count": 32,
   "metadata": {
    "tags": [
     "hide-output"
    ]
   },
   "outputs": [
    {
     "ename": "NameError",
     "evalue": "name 'b_string' is not defined",
     "output_type": "error",
     "traceback": [
      "\u001b[0;31m---------------------------------------------------------------------------\u001b[0m",
      "\u001b[0;31mNameError\u001b[0m                                 Traceback (most recent call last)",
      "\u001b[0;32m<ipython-input-32-2557116de93c>\u001b[0m in \u001b[0;36m<module>\u001b[0;34m\u001b[0m\n\u001b[1;32m      1\u001b[0m \u001b[0;32mdel\u001b[0m \u001b[0mb_string\u001b[0m\u001b[0;34m\u001b[0m\u001b[0;34m\u001b[0m\u001b[0m\n\u001b[0;32m----> 2\u001b[0;31m \u001b[0mprint\u001b[0m \u001b[0;34m(\u001b[0m\u001b[0mb_string\u001b[0m\u001b[0;34m)\u001b[0m\u001b[0;34m\u001b[0m\u001b[0;34m\u001b[0m\u001b[0m\n\u001b[0m",
      "\u001b[0;31mNameError\u001b[0m: name 'b_string' is not defined"
     ]
    }
   ],
   "source": [
    "del b_string\n",
    "print (b_string)"
   ]
  },
  {
   "cell_type": "markdown",
   "metadata": {},
   "source": [
    "### Lists\n",
    "\n",
    "Unlike strings, lists are *mutable* and we can change their *elements*, and we can append more elements. This is best demonstrated by examples. Let's first generate a list and print out the values of its elements. Lists are defined using square brackets:"
   ]
  },
  {
   "cell_type": "code",
   "execution_count": 34,
   "metadata": {
    "tags": [
     "hide-output"
    ]
   },
   "outputs": [
    {
     "name": "stdout",
     "output_type": "stream",
     "text": [
      "a and its length: [1.0, 2.0, 3.0] 3\n",
      "b and its 3rd element: [1.0, 2, 'rhubarb'] rhubarb\n",
      "empty list: []\n",
      "List in list & 3rd element: [1.0, 2.0, ['barley', 'hops']] ['barley', 'hops']\n",
      "b after changing the 3rd element: [1.0, 2, 15]\n",
      "slice 0th to 3rd element: [1.0, 2]\n",
      "more slices: [1.0, 15]\n",
      "[1.0, 15]\n",
      "b after appending to it: [1.0, 2, 15, 11]\n"
     ]
    }
   ],
   "source": [
    "a = [1.0,2.0,3.0]                                              # generate a list & print\n",
    "print(\"a and its length:\", a,len(a))                           # number of elements (length)\n",
    "b = [1.0,2,'rhubarb']                                          # elements in a list don't have to be of same type\n",
    "print(\"b and its 3rd element:\", b,b[2])                        # Print b and its third element\n",
    "empty = []                                                     # we can create empty lists. This is often quite handy\n",
    "print(\"empty list:\", empty)                                    # Print empty\n",
    "listinlist = [1.0,2.0,['barley','hops']]                       # we can also have list as an element of a list\n",
    "print(\"List in list & 3rd element:\", listinlist,listinlist[2]) # Print the variable and its third element (it is a list!)\n",
    "b[2] = 15                                                      # Change the third element of b\n",
    "print(\"b after changing the 3rd element:\", b)\n",
    "print(\"slice 0th to 3rd element:\", b[0:2])                     # Slicing works the same as with strings\n",
    "print(\"more slices:\", b[0:3:2]) \n",
    "print(b[0::2]) \n",
    "b.append(11)                                                   # We can use the method append() to add value to the list\n",
    "print(\"b after appending to it:\", b)                           # Shows that number 11 was added (appended) at the end "
   ]
  },
  {
   "cell_type": "markdown",
   "metadata": {},
   "source": [
    "<!-- Try slicing with the variable `listinlist`.\n",
    "-->"
   ]
  },
  {
   "cell_type": "markdown",
   "metadata": {},
   "source": [
    "### Tuples - ordered immutable lists of elements\n",
    "\n",
    "[Tuples](https://en.wikipedia.org/wiki/Tuple) are sometimes confusing, probably because they seem similar to lists. The term has its origin in mathematics (set theory) and  it can be defined as an *ordered set of elements*. N-tuple is an ordered list of *N* elements. If you are a database person, 'record' is roughly the same.  Tuples in python are *immutable*, their elements cannot be changed once they have been created unlike was the case with lists. This is a useful feature in certain situations.  Here are some practical points concerning tuples:\n",
    "\n",
    "- Indexing starts from zero (the same as with lists)\n",
    "- It is not possible to add (append/extend) or remove (remove/pop)  elements from a tuple. \n",
    "- Tuples are a safe way to store data (when appropriate). This is where immutability is the key.\n",
    "- Slicing works the same as with lists\n",
    "- When assigning a tuple, one uses the regular parenthesis\n",
    "- Since they are immutable, it is faster to retrieve information from a tuple than a list\n",
    "- There is a conversion routine between tuples and lists\n",
    "- Elements in a tuple can be mixed: You can have floats, integers, strings, lists, etc."
   ]
  },
  {
   "cell_type": "code",
   "execution_count": 23,
   "metadata": {
    "tags": [
     "hide-output"
    ]
   },
   "outputs": [
    {
     "name": "stdout",
     "output_type": "stream",
     "text": [
      "('lundi', 'mardi', 'mercredi', 'jeudi', 'vendredi', 'samedi', 'dimanche')\n",
      "mardi\n"
     ]
    }
   ],
   "source": [
    "days = ('lundi','mardi','mercredi','jeudi','vendredi','samedi','dimanche')\n",
    "print(days)             # print the tuple\n",
    "print(days[1])          # print element two\n",
    "#days[1] = tuesday      # Elements cannot be changed (immutable). This gives an error message"
   ]
  },
  {
   "cell_type": "markdown",
   "metadata": {},
   "source": [
    "Remove the comment on the last line and execute. We cannot change the elements individually. We can, of course, reassign the tuple:"
   ]
  },
  {
   "cell_type": "code",
   "execution_count": 24,
   "metadata": {
    "tags": [
     "hide-output"
    ]
   },
   "outputs": [
    {
     "name": "stdout",
     "output_type": "stream",
     "text": [
      "('monday', 'tuesday', 'wednesday', 'thursday', 'friday', 'saturday', 'sunday')\n",
      "('monday', 'tuesday', 'wednesday')\n",
      "('monday', 'wednesday', 'friday', 'sunday')\n"
     ]
    }
   ],
   "source": [
    "days = ('monday','tuesday','wednesday','thursday','friday','saturday','sunday')\n",
    "print(days)        # check that everything was reassigned\n",
    "print(days[0:3])   # slicing works as before\n",
    "print(days[0:7:2]) # print every second element staring from the first one\n",
    "#days = days.append('new day') # Comment out and try. Tuples are immutable -> we can't add to them"
   ]
  },
  {
   "cell_type": "markdown",
   "metadata": {},
   "source": [
    "### Dictionaries\n",
    "\n",
    "This may sound like an odd variable, but it is very useful. Dictionaries are *key-value pairs*. The most obvious examples are a dictionary and a phone book, but this data type is very useful for many purposes. Curly brackets are used when defining a dictionary. Below, we use the dot notation to call the function `keys()` to list all the keys of a dictionary."
   ]
  },
  {
   "cell_type": "code",
   "execution_count": 25,
   "metadata": {
    "tags": [
     "hide-output"
    ]
   },
   "outputs": [
    {
     "name": "stdout",
     "output_type": "stream",
     "text": [
      "<class 'dict'>\n",
      "lundi\n",
      "lundi\n",
      "dict_keys(['Monday', 'Tuesday', 'Wednesday'])\n"
     ]
    }
   ],
   "source": [
    "engfra={'Monday':'lundi','Tuesday':'mardi','Wednesday':'mercredi'} # Define key-value pairs\n",
    "print(type(engfra))      # Check the data type\n",
    "print(engfra['Monday'])  # print out the value corresponding to the key Monday\n",
    "print(engfra['Monday'])\n",
    "print(engfra.keys())     # This is how you can list keywords of a dictionary\n"
   ]
  },
  {
   "cell_type": "markdown",
   "metadata": {},
   "source": [
    "### Combined variables\n",
    "It is also possible to define *combined* variables. This is very useful in many applications. Let's illustrate this with an example. Remember that curly braces, angular brackets and normal brackets have very specific meanings as discussed above."
   ]
  },
  {
   "cell_type": "code",
   "execution_count": 26,
   "metadata": {
    "tags": [
     "hide-output"
    ]
   },
   "outputs": [
    {
     "name": "stdout",
     "output_type": "stream",
     "text": [
      "<class 'dict'>\n",
      "dict_keys(['Drake', 'Justin Bieber', 'La Femme'])\n",
      "['Toosie slide', 'Hotline Bling']\n",
      "Yummy\n",
      "dict_values([['Toosie slide', 'Hotline Bling'], ['Sorry', 'Yummy'], ['Ou va la monde', 'Hypsoline']])\n",
      "['Sur la planche', 'Hypsoline']\n"
     ]
    }
   ],
   "source": [
    "# define a combined variable. Pay attention to the different brackets\n",
    "\n",
    "music = {\n",
    "    'Drake': [\n",
    "        'Toosie slide',\n",
    "        'Hotline Bling',\n",
    "        'Laugh Now Cry Later'\n",
    "    ],\n",
    "    'Justin Bieber': [\n",
    "        'Sorry',\n",
    "        'Yummy',\n",
    "        'Lonely'\n",
    "    ],\n",
    "    'La Femme': [\n",
    "        'Ou va la monde',\n",
    "        'Hypsoline',\n",
    "        'It\\'s time to wake up'\n",
    "    ]\n",
    "}\n",
    "\n",
    "print(type(music))                      # Check the variable type\n",
    "print(music.keys())                     # Let's print the keys\n",
    "print(music['Drake'])                   # print out the values associated with the key 'Drake'\n",
    "print(music['Justin Bieber'][1])        # print out the second value associated with the key 'Justin Bieber'\n",
    "print(music.values())                   # Instead of keys, we can also print the values only\n",
    "music['La Femme'][0] = 'Sur la planche' # Since the value for each key is a list, we can change the values\n",
    "print(music['La Femme'])                # Check that the substitution was made"
   ]
  },
  {
   "cell_type": "markdown",
   "metadata": {},
   "source": [
    "````{dropdown} **Links to music that was referenced in the example.**\n",
    "\n",
    "**Note:** Videos may contain material that some people may find offensive. Watch at your own discretion. YouTube is also a bit unpredictable in what it allows so you may or may not be able to watch the videos.\n",
    "\n",
    "\n",
    "```{tabbed} Justin Bieber: \n",
    "\n",
    "<iframe width=\"560\" height=\"315\" src=\"https://www.youtube.com/embed/xQOO2xGQ1Pc\" frameborder=\"0\" allow=\"accelerometer; autoplay; clipboard-write; encrypted-media; gyroscope; picture-in-picture\" allowfullscreen></iframe>\n",
    "\n",
    "```\n",
    "\n",
    "```{tabbed} La Femme: \n",
    "\n",
    "<iframe width=\"560\" height=\"315\" src=\"https://www.youtube.com/embed/iMDwrnLrdgs\" frameborder=\"0\" allow=\"accelerometer; autoplay; clipboard-write; encrypted-media; gyroscope; picture-in-picture\" allowfullscreen></iframe>\n",
    "\n",
    "```\n",
    "\n",
    "```{tabbed} Drake: \n",
    "\n",
    "<iframe width=\"560\" height=\"315\" src=\"https://www.youtube.com/embed/xWggTb45brM\" frameborder=\"0\" allow=\"accelerometer; autoplay; clipboard-write; encrypted-media; gyroscope; picture-in-picture\" allowfullscreen></iframe>\n",
    "\n",
    "```\n",
    "\n",
    "````\n",
    "\n"
   ]
  },
  {
   "cell_type": "markdown",
   "metadata": {},
   "source": [
    "#### Checking who's who: `type`, `len`, `id`\n",
    "\n",
    "Here is a list of some commands that are helpful in inspecting variables. We have already used some of them above\n"
   ]
  },
  {
   "cell_type": "code",
   "execution_count": 27,
   "metadata": {
    "tags": [
     "hide-output"
    ]
   },
   "outputs": [
    {
     "name": "stdout",
     "output_type": "stream",
     "text": [
      "<class 'int'>\n",
      "<class 'float'>\n",
      "<class 'dict'>\n",
      "140422546971840\n",
      "3\n"
     ]
    }
   ],
   "source": [
    "print(type(1))         # What is type of the variable\n",
    "print(type(1.0))       # notice the difference to the above\n",
    "print(type(engfra))    # The one from above\n",
    "print(id(engfra))      # identity of a variable. Gives the unique identifier of the variable (not memory address)\n",
    "print(len(engfra))     # Length of a variable"
   ]
  },
  {
   "cell_type": "markdown",
   "metadata": {},
   "source": [
    "### Type conversion\n",
    "\n",
    "Like in C/C++ and Fortran, python has type conversion functions. Some of them are different from their C/C++ and Fortran counterparts. Try them out.\n",
    "\n",
    "<table>\n",
    "<tr> \n",
    "    <td>Conversion\n",
    "    </td>\n",
    "    <td>What it does\n",
    "    </td> \n",
    "    </tr>\n",
    "<tr> \n",
    "    <td>\n",
    "        <code>int(x)</code>\n",
    "    </td>\n",
    "    <td>    Converts x to an integer \n",
    "    </td> \n",
    "    </tr>\n",
    "<tr> \n",
    "    <td>\n",
    "        <code>str(x)</code>\n",
    "    </td>\n",
    "    <td>    Converts x to a string  </td> \n",
    "    </tr>\n",
    "<tr> \n",
    "    <td>\n",
    "        <code>float(x)</code>\n",
    "    </td>\n",
    "    <td>  Converts x to a float \n",
    "    </td> \n",
    "    </tr>\n",
    "<tr> \n",
    "    <td>\n",
    "        <code>complex(x)</code>\n",
    "    </td>\n",
    "    <td>  Converts to a complex number \n",
    "    </td> \n",
    "    </tr>\n",
    "<tr> \n",
    "    <td>\n",
    "        <code>hex(x)</code>\n",
    "    </td>\n",
    "    <td>    Converts to a hexadecimal \n",
    "    </td> \n",
    "    </tr>\n",
    "</table>\n",
    "\n",
    "Need help? It is very easy. Execute the cell below and it will tell what *methods* the *class* complex (which belongs to the module *builtins*) has:"
   ]
  },
  {
   "cell_type": "code",
   "execution_count": 28,
   "metadata": {
    "tags": [
     "hide-output"
    ]
   },
   "outputs": [],
   "source": [
    "help(\"complex\")"
   ]
  },
  {
   "cell_type": "markdown",
   "metadata": {},
   "source": [
    "#### Operators\n",
    "\n",
    "Basic Python does not include many mathematical operators or functions. More or less all functions have to called in by importing a module or modules and we will discuss that in a moment. The arithmetic operators that are included in basic Python are the usual ones and the order of execution follows the common rules:\n",
    "\n",
    "<table>\n",
    "<tr>\n",
    "    <td>    \n",
    "        <code>+</code>\n",
    "    </td>\n",
    "    <td> \n",
    "        addition\n",
    "    </td>\n",
    "    <td> <code>* </code>\n",
    "    </td>\n",
    "    <td> \n",
    "        multiplication\n",
    "    </td>\n",
    "    <td><code>**</code>\n",
    "    </td>\n",
    "    <td>\n",
    "        exponentiation\n",
    "    </td>\n",
    "<!--    </tr>\n",
    "    <tr>\n",
    "-->\n",
    "    <td>    \n",
    "        <code>-</code>\n",
    "    </td>\n",
    "    <td> \n",
    "        subtraction\n",
    "    </td>\n",
    "    <td> <code>/ </code>\n",
    "    </td>\n",
    "    <td> \n",
    "        division\n",
    "    </td>\n",
    "    <td> <code>%</code>\n",
    "    </td>\n",
    "    <td>\n",
    "        modular division\n",
    "    </td>\n",
    "    </tr>\n",
    "            \n",
    "</table>\n",
    "    \n"
   ]
  },
  {
   "cell_type": "markdown",
   "metadata": {},
   "source": [
    "Python has also C-style assignment operators:\n",
    "<table>\n",
    "<tr>\n",
    "    <td>  <code>a+=b</code> </td><td> for </td><td><code>a=a+b</code> </td>\n",
    "    </tr><tr>\n",
    "    <td>  <code>a*=b</code> </td><td> for </td><td> <code>a=a*b</code> </td>\n",
    "        </tr><tr>\n",
    "    <td>  <code>a**=b</code> </td><td> for </td><td> <code>a=a**b</code> </td>  \n",
    "    </tr><tr>\n",
    "    <td>  <code>a-=b</code> </td><td> for </td><td> <code>a=a-b</code> </td></tr><tr>\n",
    "    <td>  <code>a/=b</code> </td><td> for </td><td> <code>a=a/b</code> </td></tr><tr>\n",
    "    <td> <code> a%=b</code> </td><td> for </td><td> <code>a=a%b</code> </td>\n",
    "    </tr>\n",
    "    </table>\n",
    " \n"
   ]
  },
  {
   "cell_type": "markdown",
   "metadata": {},
   "source": [
    "And the usual relational operators:\n",
    "\n",
    "`<`, `>`, `<=`, `>=`, `==`, `!=`\n"
   ]
  },
  {
   "cell_type": "markdown",
   "metadata": {},
   "source": [
    "Need help? It is very easy: Just try for example"
   ]
  },
  {
   "cell_type": "code",
   "execution_count": 29,
   "metadata": {
    "tags": [
     "hide-output"
    ]
   },
   "outputs": [],
   "source": [
    "help(\"+\")"
   ]
  },
  {
   "cell_type": "markdown",
   "metadata": {},
   "source": [
    "## Import modules\n",
    "\n",
    "Above, we used `import` to load a *module*, and we then used *the dot* notation to access a *function* from it. This is what we did:\n",
    "\n",
    "```\n",
    "  import keyword                # import keyword module\n",
    "  print (keyword.kwlist)        # Print out the list of reserved keywords.\n",
    "```\n",
    "\n",
    "\n",
    "<p></p>\n",
    "\n",
    "As briefly explained above, the module `keyword` is a built-in one. It provides the list of reserved keywords. In the above, `kwlist` is *function* or *of the *module*. In general, one accesses the *functions* or *methods* of a *module* using the *dot operator*. We will be using this extensively. The figure shows some of the basics and terminology. In the figure, an *alias* is created when importing module `numpy`.\n",
    "\n",
    "<!--\n",
    "<table>\n",
    "    <tr>\n",
    "        <td>\n",
    "            <img src=\"./img/python-import.svg\" width=\"98%\"/>\n",
    "        </td>\n",
    "    </tr>    \n",
    "    <tr>\n",
    "        <td colspan=\"1\">\n",
    "        Figure: Basic terminology related to importing modules in python. Numpy is library that provides lots of efficient array/matrix operations and numerical operations and it is used extensively in lots of applications. Aliasing using `as` The path to this directory would then be <code class=\"wlblue\">/home/sam</code>. Green: The directory <code class=\"wlblue\">/opt</code> is a good place to put your own software (that you compile) such as Gromacs. \n",
    "        </td>\n",
    "    </tr>\n",
    "</table>\n",
    "\n",
    "-->\n",
    "\n",
    "````{panels}\n",
    ":column: col-lg-12 p-2\n",
    "\n",
    "\n",
    "```{figure} ../../images/python-import.svg\n",
    ":width: 100%\n",
    ":alt: Python_import\n",
    "Basic terminology related to importing modules in python. Numpy is library that provides lots of efficient array/matrix operations and numerical operations and it is used extensively in lots of applications. Aliasing using `as`; technically speaking this is not true aliasing but rather binding (in this case `np`) to the namespace (in this case `numpy`)) but that is beyond the point here. \n",
    "```\n",
    "````"
   ]
  },
  {
   "cell_type": "code",
   "execution_count": null,
   "metadata": {},
   "outputs": [],
   "source": [
    "...and don't forget to check what the modules in the figure do:"
   ]
  },
  {
   "cell_type": "code",
   "execution_count": 60,
   "metadata": {
    "tags": [
     "hide-output"
    ]
   },
   "outputs": [
    {
     "name": "stdout",
     "output_type": "stream",
     "text": [
      "Help on method randint in random:\n",
      "\n",
      "random.randint = randint(a, b) method of random.Random instance\n",
      "    Return random integer in range [a, b], including both end points.\n",
      "\n"
     ]
    }
   ],
   "source": [
    "help(\"random.randint\")\n"
   ]
  },
  {
   "cell_type": "markdown",
   "metadata": {},
   "source": [
    "## Plotting in python\n",
    "\n",
    "It's time to do some plotting. The example below is organized as follows:\n",
    "- generate simple data and for plotting\n",
    "- plot the data using matplotlib. \n",
    "- while [matplotlib](https://matplotlib.org/) can generate beautiful plots, we import [Seaborn](https://seaborn.pydata.org/) to decorate the plot\n",
    "- replot the data with matplotlib and Seaborn decorations. This produces a publication-quality plot\n",
    "- examples also include how to include and select plot title, loglog plot, markers and linestyle, and use [LaTeX](https://en.wikipedia.org/wiki/LaTeX) in labels\n",
    "\n",
    "There are also other options to do plotting such as [Plotly](https://en.wikipedia.org/wiki/Plotly). Here, we use matplotlib as it is probably the most common way and it is very easy for Matlab users to use matplotlib due to syntactic similarity.\n",
    "\n",
    "This also provides an introduction to `numpy`, loops and plotting options."
   ]
  },
  {
   "cell_type": "markdown",
   "metadata": {},
   "source": [
    "This is very handy for generating arrays:\n",
    "\n",
    "`np.arange(start=1, stop=10, step=3)`"
   ]
  },
  {
   "cell_type": "code",
   "execution_count": 31,
   "metadata": {
    "tags": [
     "hide-output"
    ]
   },
   "outputs": [
    {
     "name": "stdout",
     "output_type": "stream",
     "text": [
      "[0.1 0.3 0.5 0.7 0.9 1.1 1.3 1.5 1.7 1.9 2.1 2.3 2.5 2.7 2.9 3.1 3.3 3.5\n",
      " 3.7 3.9 4.1 4.3 4.5 4.7 4.9 5.1 5.3 5.5 5.7 5.9 6.1 6.3 6.5 6.7 6.9 7.1\n",
      " 7.3 7.5 7.7 7.9 8.1 8.3 8.5 8.7 8.9 9.1 9.3 9.5 9.7 9.9]\n"
     ]
    }
   ],
   "source": [
    "import numpy as np\n",
    "import matplotlib.pyplot as plt\n",
    "\n",
    "x_data = np.arange(0.1,10,0.2)    # generate some simple data starting in the range 0.1-10 with steps of 0.2\n",
    "print(x_data)                     # Let's check the data\n",
    "y_data = x_data**2                # Let's use the data to generate a simple function."
   ]
  },
  {
   "cell_type": "code",
   "execution_count": 32,
   "metadata": {
    "tags": [
     "hide-output"
    ]
   },
   "outputs": [
    {
     "data": {
      "image/png": "[encoded data removed]",
      "text/plain": [
       "<Figure size 432x288 with 1 Axes>"
      ]
     },
     "metadata": {
      "filenames": {
       "image/png": "/home/mkarttu/Tresors/Teaching/Online/SciComp/_build/jupyter_execute/class/PythonBasics/python-intro_79_0.png"
      },
      "needs_background": "light"
     },
     "output_type": "display_data"
    }
   ],
   "source": [
    "#---- Create a quick plot using matplotlib\n",
    "#\n",
    "#     A pretty publication-quality plot is created below after this one\n",
    "#     using decorations, colors etc. from Seaborn. \n",
    "#\n",
    "#     Linestyles and markers are more or less the same as in Matlab. See:\n",
    "#     https://matplotlib.org/2.0.2/api/markers_api.html#module-matplotlib.markers\n",
    "#     https://matplotlib.org/2.0.2/api/lines_api.html#matplotlib.lines.Line2D.set_linestyle\n",
    "\n",
    "plt.title('One can have a title too')\n",
    "plt.plot(x_data,y_data, color='black', linestyle=':', marker='p')\n",
    "plt.xlabel(\"x-title\")\n",
    "plt.ylabel(\"y-title\")\n",
    "# plt.legend(loc='center right')\n",
    "\n",
    "plt.show()"
   ]
  },
  {
   "cell_type": "markdown",
   "metadata": {},
   "source": [
    "The above shows how easy and quick it is to generate plots from data and to add titles and labels, and to change line styles and markers. Let's take this a bit further. Seaborn is based on matplotlib and it allows changing styles, color palettes and other decorations very easily. In the next cell, we import Seaborn and define background, grid, fonts and line widths. These definitions have been used to create figures for publications and the line widths and other styles have been selected such that the plots look good when printed. \n",
    "\n",
    "The best way to use the cell below is to save it separately and then import it. If you plan to use these or some other settings in this same manner, that is what you should do."
   ]
  },
  {
   "cell_type": "code",
   "execution_count": 33,
   "metadata": {},
   "outputs": [],
   "source": [
    "#=============================================================\n",
    "#\n",
    "# Import Seaborn to make a pretty plot.\n",
    "#\n",
    "# Seaborn is excellent for controlling decorations, line widths\n",
    "# color palettes, etc.\n",
    "#\n",
    "#   - Define background for the plot\n",
    "#   - Define if a grid is used (background)\n",
    "#   - Define font families\n",
    "#   - Define line widths\n",
    "#\n",
    "# Ideally, this should be put in a separate file and imported, \n",
    "# but is included here as an example.\n",
    "#=============================================================\n",
    "\n",
    "import seaborn as sns\n",
    "from matplotlib import rc\n",
    "\n",
    "\n",
    "sns.set()\n",
    "sns.set_context(\"paper\", font_scale=1.5, rc={\"lines.linewidth\": 2.0})\n",
    "\n",
    "#---- This allows the use of LaTeX + the use sans-serif fonts also for tick labels:\n",
    "\n",
    "rc('text', usetex=True)\n",
    "rc('text.latex', preamble=r'\\usepackage{cmbright}')\n",
    "\n",
    "# There are 5 presents for background: darkgrid, whitegrid, dark, white, and ticks\n",
    "# Define how ticks are placed and define font families\n",
    "\n",
    "sns.set_style(\"ticks\")\n",
    "sns.set_style(\"whitegrid\", \n",
    " {'axes.edgecolor': 'black',\n",
    " 'axes.grid': True,\n",
    " 'axes.axisbelow': True,\n",
    " 'axes.labelcolor': '.15',\n",
    " 'grid.color': '0.9',\n",
    " 'grid.linestyle': '-',\n",
    " 'xtick.direction': 'in', \n",
    " 'ytick.direction': 'in',\n",
    " 'xtick.bottom': True,\n",
    " 'xtick.top': True,\n",
    " 'ytick.left': True,\n",
    " 'ytick.right': True, \n",
    " 'font.family': ['sans-serif'],\n",
    " 'font.sans-serif': [\n",
    "  'Liberation Sans',\n",
    "  'Bitstream Vera Sans',\n",
    "  'sans-serif'],})"
   ]
  },
  {
   "cell_type": "markdown",
   "metadata": {},
   "source": [
    "The cell below plots the data using `matplotlib` with the  `seaborn` settings to make the above plot pretty with nice and consistent fonts, control of tick marks, legends and so on. The line widths were determined in the previous cell so that if the plot is included in an article or thesis, everything should look good. At the end, there is an option to save as `png` and `svg`. While `png` is good for importing plots into Word, LaTeX or LibreOffice, `svg` (=[Scalable Vector Graphics](https://en.wikipedia.org/wiki/Scalable_Vector_Graphics)) is scale free. That is, it can be used in posters without loss of resolution and it can be edited (without the need to replot), say, if one wants to change the line type or color. `svg` files can be edited using the excellent `inkscape` program (free and available for Windows, Mac and Linux) and then saved to `png` or any other format if necessary. Note also that `svg` can be directly imported in LibreOffice files and also in Jupyter Labs/Notebook and on web sites. It's usually a good idea so save in both formats but if one needs to pick one, `svg` is a much more flexible choice.\n"
   ]
  },
  {
   "cell_type": "code",
   "execution_count": 34,
   "metadata": {
    "tags": [
     "hide-output"
    ]
   },
   "outputs": [
    {
     "data": {
      "image/png": "[encoded data removed]",
      "text/plain": [
       "<Figure size 432x288 with 1 Axes>"
      ]
     },
     "metadata": {
      "filenames": {
       "image/png": "/home/mkarttu/Tresors/Teaching/Online/SciComp/_build/jupyter_execute/class/PythonBasics/python-intro_83_0.png"
      }
     },
     "output_type": "display_data"
    },
    {
     "data": {
      "image/png": "[encoded data removed]",
      "text/plain": [
       "<Figure size 432x288 with 1 Axes>"
      ]
     },
     "metadata": {
      "filenames": {
       "image/png": "/home/mkarttu/Tresors/Teaching/Online/SciComp/_build/jupyter_execute/class/PythonBasics/python-intro_83_1.png"
      }
     },
     "output_type": "display_data"
    }
   ],
   "source": [
    "#=============================================================================\n",
    "#\n",
    "# Let's make the plot pretty with settings from above.\n",
    "#\n",
    "#  - Produces a publication quality plot for an article or thesis.\n",
    "#=============================================================================\n",
    "\n",
    "#---- Choose Seaborn colour palette. \n",
    "#     This is the only Seaborn piece in this cell, all the rest would work without it.\n",
    "#     The previous cell does all the decorations and that's what Seaborn did for us.\n",
    "#\n",
    "#     More palettes: See: https://seaborn.pydata.org/tutorial/color_palettes.html\n",
    "\n",
    "sns.set_palette(\"tab10\")\n",
    "\n",
    "#---- This allows modification of tick positions (& a few other things)\n",
    "\n",
    "from matplotlib.ticker import (AutoMinorLocator, MultipleLocator)\n",
    "fig, ax = plt.subplots(1,1)\n",
    "\n",
    "# Set x and y-minor ticks:\n",
    "\n",
    "ax.yaxis.set_minor_locator(MultipleLocator(5.0))\n",
    "ax.xaxis.set_minor_locator(MultipleLocator(1.0))\n",
    "\n",
    "#---- Plot data. One can use LaTeX for legends (label gets picked up by \n",
    "#     the legend part below).\n",
    "#     Linestyles and markers are more or less the same as in Matlab. See:\n",
    "#     https://matplotlib.org/2.0.2/api/markers_api.html#module-matplotlib.markers\n",
    "#     https://matplotlib.org/2.0.2/api/lines_api.html#matplotlib.lines.Line2D.set_linestyle\n",
    "\n",
    "plt.plot(x_data,y_data, label='$x^2$', linestyle=':', marker='D')\n",
    "\n",
    "#---- Axis labels and legend:\n",
    "\n",
    "plt.xlabel(\"x-axis\")\n",
    "plt.ylabel(\"y-axis\")\n",
    "plt.legend(title=\"Function\",loc='center right',fontsize='small',fancybox=True)\n",
    "\n",
    "#---- It's very easy to plot vertical and horizontal lines for example \n",
    "#     for the average values or put them in any arbitrary position.\n",
    "#     Linestyles are the same as in Matlab\n",
    "\n",
    "plt.axvline(x=np.mean(x_data), color='black', linestyle=':')\n",
    "plt.axhline(y=np.mean(y_data), color='black', linestyle='--')\n",
    "\n",
    "#---- You can add text using the coordinate positions (x,y)\n",
    "#     The example also shows how to concatenate text from extracted data\n",
    "\n",
    "plt.text(0, 80, 'Curve: $y=x^2$\\nAverage x value is: '+str(np.around(np.mean(x_data),decimals=2)), rotation=0)\n",
    "\n",
    "#---- Uncomment to save. First give a name. Then a high resolution png and svg files are generated\n",
    "\n",
    "#printfile = 'testplot'\n",
    "#plt.savefig(printfile+'.svg')\n",
    "#plt.savefig(printfile+'.png',dpi=300)\n",
    "\n",
    "#---- Show \n",
    "\n",
    "plt.show()\n",
    "\n",
    "#---- One can plot more so let's generate a log-log plot:\n",
    "\n",
    "plt.title('One can have a title too')\n",
    "plt.loglog(x_data,y_data, label='$x^2$', linestyle='-.')\n",
    "plt.legend(title=\"Function\",loc='upper left',fontsize='small',fancybox=True)\n",
    "\n",
    "plt.show()"
   ]
  },
  {
   "cell_type": "markdown",
   "metadata": {},
   "source": [
    "### Variation to the theme: plots xkcd style\n",
    "\n",
    "Not that this is useful, but it is fun: One can eve plot using the [XKCD comics](https://xkcd.com/) style. To make the plots look more authentic, install the humor sans font (not required, though) from the terminal window using the command ` sudo apt install -y fonts-humor-sans `\n",
    "\n",
    "Let's plot the same plot as above. "
   ]
  },
  {
   "cell_type": "code",
   "execution_count": 35,
   "metadata": {
    "tags": [
     "hide-output"
    ]
   },
   "outputs": [
    {
     "data": {
      "image/png": "[encoded data removed]",
      "text/plain": [
       "<Figure size 432x288 with 1 Axes>"
      ]
     },
     "metadata": {
      "filenames": {
       "image/png": "/home/mkarttu/Tresors/Teaching/Online/SciComp/_build/jupyter_execute/class/PythonBasics/python-intro_85_0.png"
      }
     },
     "output_type": "display_data"
    }
   ],
   "source": [
    "rc('text', usetex=False)        # Using LaTeX doesn't work with xkcd style so let's turn it off\n",
    "\n",
    "#-- Note: we use the 'with' since we don't want to make this permanent (only in this context)\n",
    "\n",
    "with plt.xkcd(scale=1, length=100, randomness=1):   # This turns on the xkcd mode. It has 3 parameters\n",
    "#with plt.xkcd():                                   # Use default values for the parameters\n",
    "    plt.xlabel(\"X-AXIS\")\n",
    "    plt.ylabel(\"Y-AXIS\")\n",
    "    \n",
    "    plt.axvline(x=np.mean(x_data), color='black', linestyle=':')\n",
    "    plt.axhline(y=np.mean(y_data), color='black', linestyle='--')   \n",
    "    \n",
    "    plt.title('One can have a title too')\n",
    "    plt.plot(x_data,y_data, label=r'$x^2$', linestyle='-.') # Note that after turning of LaTeX, this is the way we can have it/\n",
    "    plt.legend(title=\"Function\",loc='upper left',fontsize='small',fancybox=True)\n",
    "    \n",
    "    plt.show()"
   ]
  },
  {
   "cell_type": "markdown",
   "metadata": {},
   "source": [
    "<!--\n",
    "### Drawing chemical structures (and much more)\n",
    "\n",
    "RDKit is the package for doing that, it is extremely powerful. We won't discuss it further, but simply just provide an example.\n",
    "\n",
    "- [Installation¶](https://www.rdkit.org/docs/Install.html)\n",
    "-->"
   ]
  },
  {
   "cell_type": "code",
   "execution_count": 35,
   "metadata": {
    "tags": [
     "remove-input"
    ]
   },
   "outputs": [],
   "source": [
    "#import nglview\n",
    "#from IPython.display import IFrame\n",
    "##import pytraj as pt\n",
    "#import nglview as nv\n",
    "#print(\"nglview version = {}\".format(nv.__version__))\n",
    "##print(\"pytraj version = {}\".format(pt.__version__))\n",
    "#view = nglview.show_pdbid(\"3pqr\")  # load \"3pqr\" from RCSB PDB and display viewer widget\n",
    "#view\n",
    "#view.render_image()\n",
    "#view._display_image()\n",
    "#IFrame(src=\"view.html\", width=700, height=700)"
   ]
  },
  {
   "cell_type": "markdown",
   "metadata": {},
   "source": [
    "<!-- \n",
    "### NGLView: View molecules interactively in Jupyter\n",
    "\n",
    "- [Installation instructions](https://github.com/nglviewer/nglview)\n",
    "\n",
    "-->"
   ]
  },
  {
   "cell_type": "markdown",
   "metadata": {},
   "source": [
    "\n",
    "**For more examples and demos, see for example:**\n",
    " - [matplotlib](https://matplotlib.org/index.html)\n",
    " - [matplotlib examples](https://matplotlib.org/gallery/index.html)\n",
    " - [matplotlib tutorials](https://matplotlib.org/tutorials/index.html)\n",
    " - [Seaborn](https://seaborn.pydata.org/index.html)\n",
    " - [Seaborn User guide and tutorial](https://seaborn.pydata.org/tutorial.html)"
   ]
  },
  {
   "cell_type": "markdown",
   "metadata": {},
   "source": [
    "### Plotting with data from the disk"
   ]
  },
  {
   "cell_type": "markdown",
   "metadata": {},
   "source": [
    "The following shows one way of reading data from a file that has data in columns separated by spaces. Seaborn is again used for pretty plots. This also demonstrates numpy and pandas, two very useful modules. This is not very elegant but aim is to demonstrate plotting using data stored in a file, how to use a *for loop* and how one can get some quick statistics.\n",
    "\n",
    "We will use two approaches: 1) Direct reading and plotting, and 2) reading the data, converting it to [*pandas dataframe*](https://pandas.pydata.org/) and then plotting. The second part is shown since *pandas dataframe* is a very useful (and very commonly used) way of handling data. There are many other ways to plot by calling Seaborn directly, using *scatter* etc.\n",
    "\n",
    "\n",
    "\n",
    "**Data:** It is assumed that data is in `$HOME/test_plot/test_data.dat`"
   ]
  },
  {
   "cell_type": "code",
   "execution_count": 60,
   "metadata": {
    "tags": [
     "hide-output"
    ]
   },
   "outputs": [
    {
     "name": "stdout",
     "output_type": "stream",
     "text": [
      "My home directory is: /home/mkarttu\n",
      "\n",
      "Dataframe:\n",
      "\n",
      "   time in ns  measurement 1  measurement 2\n",
      "0         1.0           1.00           2.00\n",
      "1         2.0           1.10           1.90\n",
      "2         3.0           0.90           1.95\n",
      "3         4.0           1.20           2.10\n",
      "4         5.0           1.02           2.05\n",
      "\n",
      "\n",
      "1.044\n",
      "2.0\n",
      "\n",
      "\n",
      "       measurement 1  measurement 2\n",
      "count       5.000000       5.000000\n",
      "mean        1.044000       2.000000\n",
      "std         0.112606       0.079057\n",
      "min         0.900000       1.900000\n",
      "25%         1.000000       1.950000\n",
      "50%         1.020000       2.000000\n",
      "75%         1.100000       2.050000\n",
      "max         1.200000       2.100000\n"
     ]
    },
    {
     "data": {
      "image/png": "[encoded data removed]",
      "text/plain": [
       "<Figure size 432x288 with 1 Axes>"
      ]
     },
     "metadata": {
      "filenames": {
       "image/png": "/home/mkarttu/Tresors/Teaching/Online/SciComp/_build/jupyter_execute/class/PythonBasics/python-intro_92_1.png"
      }
     },
     "output_type": "display_data"
    }
   ],
   "source": [
    "import pandas as pd\n",
    "import numpy as np\n",
    "import matplotlib.pyplot as plt\n",
    "import os\n",
    "\n",
    "from helpers import pretty_plots\n",
    "pretty_plots.pretty_plot(pal='tab10',size='paper')\n",
    "\n",
    "#---- Get home directory. Demonstrates the module os    \n",
    "    \n",
    "home_dir = os.environ['HOME']\n",
    "print('My home directory is:', home_dir)\n",
    "\n",
    "#---- Input data: x,y1,y2 data is in this file ----------\n",
    "\n",
    "data_1 = home_dir+'/test_plot/test_data.dat'\n",
    "\n",
    "#---- Let's assign arrays and --------------------\n",
    "#     read the data from the file line-by-line into the variables:\n",
    "#     Floats are read from a line and appended to the arrays.\n",
    "#     The data file is opened for reading only.\n",
    "\n",
    "x, y_1, y_2 =   [], [], []\n",
    "\n",
    "for line in open(data_1, 'r'):\n",
    "  values = [float(s) for s in line.split()]\n",
    "  x.append(values[0])\n",
    "  y_1.append(values[1])\n",
    "  y_2.append(values[2])\n",
    "\n",
    "#---- Let's create a pandas dataframe from the data\n",
    "#     Note really necessary, but demonstrates pandas\n",
    "\n",
    "df = pd.DataFrame({\n",
    "    \"time in ns\"    : x, \n",
    "    \"measurement 1\" : y_1, \n",
    "    \"measurement 2\" : y_2\n",
    "})\n",
    "\n",
    "#---- To write the data as a csv file with the column headers\n",
    "#     give a name for the out file and uncomment:\n",
    "\n",
    "#df.to_csv(outfile, index=False)\n",
    "\n",
    "#---- This is one reason why dataframes are so handy. Let's print it on screen, \n",
    "#     easy to see variables and get statistics:\n",
    "\n",
    "print('\\nDataframe:\\n')\n",
    "print(df)\n",
    "\n",
    "#---- Compute the averages of the two data columns using numpy and print them on screen:\n",
    "\n",
    "y_1_mean = df['measurement 1'].mean()\n",
    "y_2_mean = df['measurement 2'].mean()\n",
    "\n",
    "print('\\n')\n",
    "print(y_1_mean)\n",
    "print(y_2_mean)\n",
    "print('\\n')\n",
    "\n",
    "aa=df[['measurement 1','measurement 2']]\n",
    "\n",
    "#--- print some more statistics\n",
    "\n",
    "print(aa.dropna().describe())\n",
    "\n",
    "#---- Create a simple plot of the data in one figure\n",
    "#     A pretty plot is created below after this one.\n",
    "#     Note: ax provides a handle to share the axis\n",
    "\n",
    "\n",
    "ax = df.plot(x='time in ns',y='measurement 1', s=40, kind='scatter', color='tab:blue', label='Data column 1')\n",
    "df.plot(x='time in ns',y='measurement 2', ax=ax, s=40, kind='scatter', color='tab:orange', label='Data column 2')\n",
    "df.plot(x='time in ns',y='measurement 1', ax=ax, kind='line', label='')\n",
    "df.plot(x='time in ns',y='measurement 2', ax=ax, kind='line', label='')\n",
    "\n",
    "\n",
    "plt.ylabel(\"measurement data\")\n",
    "plt.legend(loc='center right')\n",
    "\n",
    "#---- Plot lines for the average values\n",
    "\n",
    "plt.axhline(y=y_1_mean, color='black', linestyle=':')\n",
    "plt.axhline(y=y_2_mean, color='black', linestyle='--')\n",
    "\n",
    "#---- Plot the average values in the figure.\n",
    "#     Note: Since LaTeX is enabled, the underscore character needs to be escaped using backslash\n",
    "\n",
    "plt.text(1, 1.5, 'Average y\\_1: '+str(np.around(y_1_mean,decimals=1)), rotation=0)\n",
    "plt.text(1, 1.35, 'Average y\\_2: '+str(np.around(y_2_mean,decimals=1)),rotation=0)\n",
    "\n",
    "\n",
    "plt.show()"
   ]
  },
  {
   "cell_type": "markdown",
   "metadata": {},
   "source": [
    "...and of course we can plot this using the xkcd style by reusing the xkcd cell from above:"
   ]
  },
  {
   "cell_type": "code",
   "execution_count": 62,
   "metadata": {
    "tags": [
     "hide-output"
    ]
   },
   "outputs": [
    {
     "data": {
      "image/png": "[encoded data removed]",
      "text/plain": [
       "<Figure size 432x288 with 1 Axes>"
      ]
     },
     "metadata": {
      "filenames": {
       "image/png": "/home/mkarttu/Tresors/Teaching/Online/SciComp/_build/jupyter_execute/class/PythonBasics/python-intro_94_0.png"
      }
     },
     "output_type": "display_data"
    }
   ],
   "source": [
    "rc('text', usetex=False)\n",
    "\n",
    "with plt.xkcd(scale=1, length=100, randomness=1): \n",
    "    ax = df.plot(x='time in ns',y='measurement 1', kind='scatter',color='b', label='Data column 1')\n",
    "    df.plot(x='time in ns',y='measurement 2', ax=ax, kind='scatter',color='r', label='Data column 2')\n",
    "\n",
    "    plt.ylabel(\"measurement data\")\n",
    "    plt.legend(loc='center right')\n",
    "\n",
    "#---- Plot lines for the average values & also write the avg values in the figure\n",
    "\n",
    "    plt.axhline(y=y_1_mean, color='black', linestyle=':')\n",
    "    plt.axhline(y=y_2_mean, color='black', linestyle='--')\n",
    "\n",
    "    plt.text(1, 1.5, 'Average y_1: '+str(np.around(y_1_mean,decimals=1)), rotation=0)\n",
    "    plt.text(1, 1.35, 'Average y_2: '+str(np.around(y_2_mean,decimals=1)),rotation=0)\n",
    "    \n",
    "    plt.show()"
   ]
  },
  {
   "cell_type": "markdown",
   "metadata": {},
   "source": [
    "### A very brief intro to loops and conditionals"
   ]
  },
  {
   "cell_type": "markdown",
   "metadata": {},
   "source": [
    "#### `for` loop\n",
    "\n",
    "- [For loops in python](https://wiki.python.org/moin/ForLoop)\n",
    "\n",
    "We already saw an example of this. But here is the`for` loop in brief. Note intendation. It is critical. \n",
    "\n",
    "1. In example 1, we woop over a range of values, pring out, append values to a list, convert list to a *numpy* array. Why the last? If/when one needs to perform numerical calculations numpy has lots of optimized routines. As an example, perform an element-wise numpy operation. Why not use lists? Lists are much slower but they are convenient for reading in data and some other stuff.\n",
    "2. In example 2, the loop goes over the characters of a string. This is closely related to what was done above when we read lines using a *for loop*."
   ]
  },
  {
   "cell_type": "code",
   "execution_count": 98,
   "metadata": {
    "tags": [
     "hide-output"
    ]
   },
   "outputs": [
    {
     "name": "stdout",
     "output_type": "stream",
     "text": [
      "[]\n",
      "The value of a is 11 index: 11\n",
      "The value of a is 23 index: 12\n",
      "The value of a is 36 index: 13\n",
      "The value of a is 50 index: 14\n",
      "The value of a is 65 index: 15\n",
      "The value of a is 81 index: 16\n",
      "[11, 12, 13, 14, 15, 16] <class 'list'>\n",
      "[11 12 13 14 15 16] <class 'numpy.ndarray'>\n",
      "[3.31662479 3.46410162 3.60555128 3.74165739 3.87298335 4.        ]\n"
     ]
    }
   ],
   "source": [
    "#-------------------------------\n",
    "# Example 1. \n",
    "\n",
    "import numpy as np\n",
    "a = 0                                             # We already used the variable a above so let's initialize it.\n",
    "b = []                                            # initalize list b and check that it is empty.\n",
    "print(b)    \n",
    "\n",
    "for i in range (11,17):\n",
    "    a = a+i\n",
    "    b.append(i)                                   # Append values to the list\n",
    "    print('The value of a is',a,'index:', i)\n",
    "\n",
    "b_new = np.array(b)                               # Convert b to a numpy array. \n",
    "print(b, type(b))                                 # Let's check the original and converted\n",
    "print(b_new, type(b_new))    \n",
    "print(np.sqrt(b_new))"
   ]
  },
  {
   "cell_type": "code",
   "execution_count": 1,
   "metadata": {
    "tags": [
     "hide-output"
    ]
   },
   "outputs": [
    {
     "name": "stdout",
     "output_type": "stream",
     "text": [
      "Ferme les yeux est imagine-toi par Soprano et Blacko."
     ]
    }
   ],
   "source": [
    "#-------------------------------------\n",
    "# Example 2.\n",
    "\n",
    "for i in \"Ferme les yeux est imagine-toi par Soprano et Blacko.\":\n",
    "    print(i, end='')  # the part end='' prints without changing line. Comment it out and see."
   ]
  },
  {
   "cell_type": "markdown",
   "metadata": {},
   "source": [
    "```{dropdown} Music: Ferme les yeux et imagine toi, Soprano ft. Blacko\n",
    "<iframe width=\"560\" height=\"315\" src=\"https://www.youtube-nocookie.com/embed/1PhrvI6ecRs\" frameborder=\"0\" allow=\"accelerometer; autoplay; clipboard-write; encrypted-media; gyroscope; picture-in-picture\" allowfullscreen></iframe>\n",
    "```"
   ]
  },
  {
   "cell_type": "markdown",
   "metadata": {},
   "source": [
    "#### `while` loops and breaking/stopping a loop"
   ]
  },
  {
   "cell_type": "markdown",
   "metadata": {},
   "source": [
    "- [While loops in python](https://wiki.python.org/moin/WhileLoop) \n",
    "The `while` loops is used for executing a loop *while* some (logical) condition is true. Here is also the simples `if` statement."
   ]
  },
  {
   "cell_type": "code",
   "execution_count": null,
   "metadata": {
    "tags": [
     "hide-output"
    ]
   },
   "outputs": [],
   "source": [
    "#----------------------------------------------\n",
    "# Example. A simple while loop and a break statement\n",
    "\n",
    "import numpy as np\n",
    "\n",
    "x = np.arange(0,10,1)\n",
    "i = 0\n",
    "while i < max(x):\n",
    "    i = i+x[2]\n",
    "    print(i)\n",
    "    if i == 4:\n",
    "        print('Need a break?')\n",
    "        break"
   ]
  },
  {
   "cell_type": "markdown",
   "metadata": {},
   "source": [
    "#### `if` - `elif` - `else` statement\n",
    "\n",
    "This is used to test a condition. Note that it is critical to have proper indentation."
   ]
  },
  {
   "cell_type": "code",
   "execution_count": 133,
   "metadata": {
    "tags": [
     "hide-output"
    ]
   },
   "outputs": [
    {
     "name": "stdout",
     "output_type": "stream",
     "text": [
      "Condition 2: 0 39\n",
      "Condition 3: 1 58\n"
     ]
    }
   ],
   "source": [
    "#---------------------------------------\n",
    "# Example. \n",
    "#\n",
    "#   Let's generate random integers between 0 and 100. The argument size gives length of the array (vary it and re-run)\n",
    "\n",
    "import numpy as np\n",
    "\n",
    "x = np.random.randint(100,size=(2))\n",
    "j = 0\n",
    "for i in x:  \n",
    "    if x[j] > 6 and x[j] < 10:\n",
    "        print('Condition 1:',j,x[j])\n",
    "    elif x[j] > 30 and x[j] < 40:\n",
    "        print('Condition 2:',j, x[j])\n",
    "    else:\n",
    "        print('Condition 3:',j, x[j])\n",
    "    j = j+1"
   ]
  },
  {
   "cell_type": "markdown",
   "metadata": {},
   "source": [
    "<!--\n",
    "### Using functions\n",
    "-->"
   ]
  },
  {
   "cell_type": "markdown",
   "metadata": {
    "tags": [
     "remove-input"
    ]
   },
   "source": [
    "## What was not covered"
   ]
  },
  {
   "cell_type": "markdown",
   "metadata": {},
   "source": [
    "The above covers the basics and provides a starting point for being able to produce and analyze data. The main thing that was not covered is object oriented programming. For those who are interested, here is some further reading:\n",
    "\n",
    "- [Object-Oriented Programming (OOP) in Python 3](https://realpython.com/python3-object-oriented-programming/)\n",
    "\n"
   ]
  }
 ],
 "metadata": {
  "kernelspec": {
   "display_name": "Python 3",
   "language": "python",
   "name": "python3"
  },
  "language_info": {
   "codemirror_mode": {
    "name": "ipython",
    "version": 3
   },
   "file_extension": ".py",
   "mimetype": "text/x-python",
   "name": "python",
   "nbconvert_exporter": "python",
   "pygments_lexer": "ipython3",
   "version": "3.8.5"
  }
 },
 "nbformat": 4,
 "nbformat_minor": 4
}