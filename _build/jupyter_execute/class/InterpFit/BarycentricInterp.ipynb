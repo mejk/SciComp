{
 "cells": [
  {
   "cell_type": "markdown",
   "metadata": {},
   "source": [
    "# Barycentric Lagrange Interpolation\n",
    "\n",
    "This rewriting of the Lagrange interpolation goes back at least seventy-five years but was popularized by [Berrut and Trefethen](https://epubs.siam.org/doi/pdf/10.1137/S0036144502417715) in the early 21st century.  The idea here is basically to rewrite the Lagrange form to avoid the problems mentioned above.\n",
    "\n",
    "First define\n",
    "\n",
    "$$\\mathcal{l}(x)\\equiv \\prod_{i=0}^n (x-x_i).$$\n",
    "\n",
    "Then note that\n",
    "\n",
    "$$L_j^n(x) = \\frac{\\mathcal{l}(x)}{(x-x_j)} w_j,$$\n",
    "\n",
    "where the barycentric weight $w_j$ is  \n",
    "\n",
    "$$ w_j \\equiv \\frac{1}{\\prod_{i=0,i\\neq j}^n (x_j-x_i)}.$$\n",
    "\n",
    "Our interpolating polynomial now becomes\n",
    "\n",
    "$$p_n(x) = \\sum_{i=0}^n L_i^n(x) f(x_i) =  \\mathcal{l}(x)\\sum_{i=0}^n \\frac{w_i}{x-x_i} f(x_i).$$\n",
    "\n",
    "This is called the *first form of barycentric interpolation*.  Once we have computed the weights $w_j$, evaluation of $p_n(x)$ now requires $\\mathcal{O}(n)$ flops thus removing the first objection to the Lagrange form of the interpolating polynomial.\n",
    "\n",
    "If we add a new node $x_{n+1}$, we can construct new weights $w_j$ by dividing the old weights by $(x_j-x_{n+1})$ to get the new $w_j$ (plus computing $w_{n+1}$ using the original formula).  This effectively eliminates the second objection to the Lagrange form of the intepolating polynomial.\n",
    "\n",
    "There is another similification we can use before constructing an algorithm for interpolation.  Note that for the function $g(x)\\equiv 1$,\n",
    "\n",
    "$$\n",
    "\\begin{align}\n",
    "g(x) &=  \\mathcal{l}(x)\\sum_{i=0}^n \\frac{w_i}{x-x_i} g(x_i),\\\\\n",
    " &= \\mathcal{l}(x)\\sum_{i=0}^n \\frac{w_i}{x-x_i}.\n",
    "\\end{align}\n",
    "$$\n",
    "As we shall see when we discuss interpolation errors, this formula is actually exact.  As a result,\n",
    "\n",
    "$$\n",
    "\\begin{align}\n",
    "p_n(x) &= \\frac{p_n(x)}{1} = \\frac{p_n(x)}{g(x)},\\\\\n",
    " &=\\frac{\\mathcal{l}(x)\\sum_{i=0}^n \\frac{w_i}{x-x_i} f(x_i)}{\\mathcal{l}(x)\\sum_{i=0}^n \\frac{w_i}{x-x_i}},\n",
    "\\end{align}\n",
    "$$\n",
    "\n",
    "which simiplifies to the second, or *true form of barycentric interpolation*\n",
    "\n",
    "$$p_n(x)=\\frac{\\sum_{i=0}^n \\frac{w_i}{x-x_i} f(x_i)}{\\sum_{i=0}^n \\frac{w_i}{x-x_i}}.$$  \n",
    "\n",
    "In this form, we avoid evaluating $\\mathcal{l}(x)$ entirely and the sum in the numerator and denominator can easily be constructed simultaneously.\n",
    "\n",
    "Note that there are two stages to implementation of barycentric Lagrange interpolation: i) computing the weights and ii) computing the interpolation at the desired points.  The first should be done *only once* whereas the second needs to be done at each point where the interpolation is computed.  A python code to do this is given below. "
   ]
  },
  {
   "cell_type": "code",
   "execution_count": 3,
   "metadata": {},
   "outputs": [
    {
     "data": {
      "image/png": "[encoded data removed]",
      "text/plain": [
       "<Figure size 432x288 with 1 Axes>"
      ]
     },
     "metadata": {
      "filenames": {
       "image/png": "/home/mkarttu/Tresors/Teaching/Online/SciComp/_build/jupyter_execute/class/InterpFit/BarycentricInterp_1_0.png"
      },
      "needs_background": "light"
     },
     "output_type": "display_data"
    }
   ],
   "source": [
    "import numpy as np\n",
    "from matplotlib import pyplot as plt\n",
    "\n",
    "def baryweight(x):\n",
    "    # build the weights recursively by effectively adding new points one at a time\n",
    "    w = [1.]*len(x)\n",
    "    for i in range(0,len(x)):\n",
    "        # in iteration i we compute w[i] from scratch while\n",
    "        # including the contribution of x[i] to the other weights\n",
    "        for j in range(0,i):\n",
    "            w[j]=(x[j]-x[i])*w[j]\n",
    "            w[i]=(x[i]-x[j])*w[i]\n",
    "    # do the divisions at the end to minimize the total number of divisions\n",
    "    return [1/x for x in w]\n",
    "\n",
    "def baryinterp(w,x,y,xp):\n",
    "    # Compute the barycentric interpolation at xp given the observed data in lists\n",
    "    # x and y and the precomputed weights in a list w\n",
    "    numer=0.\n",
    "    denom=0.\n",
    "    for i in range(0,len(x)):\n",
    "        xdiff=xp-x[i]\n",
    "        # We first check to ensure we are not actually evaluated at a given data point.\n",
    "        # (This would lead to division by zero which would cause problems).\n",
    "        if (xdiff == 0):\n",
    "            return y[i]\n",
    "        else:\n",
    "            tmp=w[i]/xdiff\n",
    "            numer += tmp*y[i]\n",
    "            denom += tmp\n",
    "    return numer/denom\n",
    "\n",
    "# Main program showing functions defined above used to interpolate data taken from\n",
    "# a simple sine function\n",
    "\n",
    "# This creates a list of x values for our observed data\n",
    "dx = 0.5\n",
    "x_data = np.arange(0, 6.5+dx, dx)\n",
    "\n",
    "# Compute the weights for the interpolating polynomial.  \n",
    "weights=baryweight(x_data)\n",
    "\n",
    "# Create a list of y values for our observed data and plot\n",
    "# our observations\n",
    "y_data = np.sin(x_data)\n",
    "plt.plot(x_data, y_data, \"o\", label=\"data\")\n",
    "\n",
    "# Now we want to fill in between our observed data points using\n",
    "# a barycentric Lagrange interpolation and plot the result\n",
    "dx = 0.01\n",
    "x_all = np.arange(0,6.5+dx,dx)\n",
    "y_all = [0]*len(x_all)\n",
    "for i in range(0,len(x_all)):\n",
    "    y_all[i] = baryinterp(weights,x_data,y_data,x_all[i])\n",
    "    \n",
    "plt.plot(x_all, y_all, label=\"barycentric interpolation\")\n",
    "plt.legend()\n",
    "plt.show()"
   ]
  },
  {
   "cell_type": "markdown",
   "metadata": {},
   "source": [
    "There are a few things to note here:\n",
    "\n",
    "- the weights depend only on the $x_i$ and not on $f(x_i)$.  As such, the same weights could be used in the interpolation of any function whose values are known at the same set of $x_i$  (i.e. we can resuse the weights for other functions).\n",
    "- the order of the nodes does not matter.  This means that if we want to add a new data point, it can just be appended to the end of the list, it does not need to be inserted in order.\n",
    "- if you want to add a new data point, you could easily write another function (say \"addpoint\") to update the weights.  It would essentially consist of the \"extra\" iteration of the loop in the above `baryweight` function, accounting for the fact that we have already done the `1/x` operation.  It should be clear that the update is $\\mathcal{O}(n)$ operation as only the inner loop is computed.\n",
    "- you may have noticed that the `baryinterp` function dealt with the case where $x=x_i$ as a special case to avoid division by zero.  You might be concerned about overflow in the situation where $x$ is close to $x_i$ but not exactly the same.  There are ways of dealing with this when it arises, but it turns out it is not a serious concern for most practical applications of interpolation.\n",
    "- as with any algorithm, one should ask if this is numerically stable.  As we emphasized when we discussed errors in scientific computing, it is only reasonable to ask if the algorithm is stable when applied to a well-conditioned problem.  As we will discuss shortly, polynomial interpolation for large numbers of points is only stable if these points are chosen appropriately.  In this case, [Higham](https://www.maths.manchester.ac.uk/~higham/narep/narep440.pdf) has shown that barycentric Lagrange interpolation is unconditionally stable (the first form is slightly better than the \"true\" form in this regards, but the difference for practical purposes is not usually significant).\n",
    "- for some node spacings, it is possible to give an explicit formula for the barycentric weights $w_j$.  As these weights appear in the true form of the barycentric interpolation in both the numerator and denominator, any common factor in all the weights can be cancelled without affecting the result. \n",
    "\n",
    "There are also built in versions of [barycentric interpolation in SciPy](https://docs.scipy.org/doc/scipy/reference/generated/scipy.interpolate.barycentric_interpolate.html#scipy.interpolate.barycentric_interpolate). The SciPy version also has functions to add new nodes and new, or different, values of the function to be interpolated (making use of the previously computed weights in both cases)."
   ]
  },
  {
   "cell_type": "markdown",
   "metadata": {},
   "source": []
  }
 ],
 "metadata": {
  "kernelspec": {
   "display_name": "Python 3",
   "language": "python",
   "name": "python3"
  },
  "language_info": {
   "codemirror_mode": {
    "name": "ipython",
    "version": 3
   },
   "file_extension": ".py",
   "mimetype": "text/x-python",
   "name": "python",
   "nbconvert_exporter": "python",
   "pygments_lexer": "ipython3",
   "version": "3.8.5"
  }
 },
 "nbformat": 4,
 "nbformat_minor": 5
}