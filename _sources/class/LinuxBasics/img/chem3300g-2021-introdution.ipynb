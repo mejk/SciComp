{
 "cells": [
  {
   "cell_type": "code",
   "execution_count": null,
   "metadata": {},
   "outputs": [],
   "source": []
  },
  {
   "cell_type": "markdown",
   "metadata": {},
   "source": [
    "# Chem 3300G - Computer Methods in Chemistry"
   ]
  },
  {
   "cell_type": "markdown",
   "metadata": {},
   "source": [
    "## What is computational chemistry?"
   ]
  },
  {
   "cell_type": "markdown",
   "metadata": {},
   "source": [
    "Wikipedia's definition (I think it is very good):\n",
    "\n",
    "\n",
    ">\"Computational chemistry is a branch of chemistry that uses computer simulation to assist in solving chemical problems. It uses methods of theoretical chemistry, incorporated into efficient computer programs, to calculate the structures and properties of molecules and solids. It is necessary because, apart from relatively recent results concerning the hydrogen molecular ion (dihydrogen cation, see references therein for more details), the quantum many-body problem cannot be solved analytically, much less in closed form. While computational results normally complement the information obtained by chemical experiments, it can in some cases predict hitherto unobserved chemical phenomena. It is widely used in the design of new drugs and materials. \""
   ]
  },
  {
   "cell_type": "markdown",
   "metadata": {},
   "source": [
    "## What are computer methods in chemistry?"
   ]
  },
  {
   "cell_type": "code",
   "execution_count": null,
   "metadata": {},
   "outputs": [],
   "source": []
  },
  {
   "cell_type": "markdown",
   "metadata": {},
   "source": [
    "## Brief outline of the course"
   ]
  },
  {
   "cell_type": "markdown",
   "metadata": {},
   "source": [
    "## Who hires computational chemists?\n",
    "\n",
    "Rather: who doesn't!\n",
    " - Academia (duh!)\n",
    " - Chemical industry\n",
    " - Pharmaceutical industry\n",
    " - Computer industry\n",
    " - Semiconductor industry\n",
    " - Electronics industry\n",
    " - Paper industry\n",
    " - Banks\n",
    " - Insurance companies\n",
    " - ...\n",
    " \n",
    "### More information:\n",
    "\n",
    "- [An overview of Computational Chemistry by the American Chemical Society](https://www.acs.org/content/acs/en/careers/college-to-career/chemistry-careers/computational-chemistry.html)\n",
    "- [Thoughts on a career as a computational scientist by Andrea Zonca](https://zonca.dev/2014/06/career-as-a-computational-scientist.html)\n",
    "- [Introduction to Computational Chemistry by David Young. Old but still relevant.](http://www.ccl.net/cca/documents/dyoung/topics-orig/compchem.html)\n",
    "- [Women in High Performance Computing (WHPC)](https://www.computecanada.ca/about/partners/women-in-high-performance-computing-whpc/)\n",
    "- [Cpmpute Canada](https://www.computecanada.ca/home)\n",
    "- [Perspective: Computational chemistry software and its advancement as illustrated through three grand challenge cases for molecular science](https://aip.scitation.org/doi/10.1063/1.5052551). Open access article.\n",
    "  - Great article by some leading researchers\n",
    "- [Computational Chemistry Daily by Jan H. Jensen](https://paper.li/compchemdaily#/)  "
   ]
  },
  {
   "cell_type": "code",
   "execution_count": null,
   "metadata": {},
   "outputs": [],
   "source": []
  }
 ],
 "metadata": {
  "kernelspec": {
   "display_name": "Python 3",
   "language": "python",
   "name": "python3"
  },
  "language_info": {
   "codemirror_mode": {
    "name": "ipython",
    "version": 3
   },
   "file_extension": ".py",
   "mimetype": "text/x-python",
   "name": "python",
   "nbconvert_exporter": "python",
   "pygments_lexer": "ipython3",
   "version": "3.8.5"
  }
 },
 "nbformat": 4,
 "nbformat_minor": 4
}
