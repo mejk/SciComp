{
 "cells": [
  {
   "cell_type": "markdown",
   "metadata": {},
   "source": [
    "# Higher Order Integration Schemes\n",
    "\n",
    "The composite trapezoidal rule is functional, but not all that accurate.  At this point, the only method we have to improve accuracy is to divide the interval into smaller segments.  We can, however, use results for different step sizes $h$ to improve both results by eliminating the lowest order error.  To illustrate, consider the trapezoidal rule for a step $h_1=(b-a)$ and then $h_2=(b-a)/2$,  \n",
    "\n",
    "$$\n",
    "\\begin{align}\n",
    "I_1 &=\\int_a^b f(x) dx = \\frac{h_1}{2}\\left[f(a)+f(b)\\right] - (b-a)\\frac{h_1^2}{12} f''(\\eta_1),\\\\\n",
    "I_2 &=\\int_a^b f(x) dx = \\frac{h_2}{2}\\left[f(a)+2f(a+h)+f(b)\\right] - (b-a)\\frac{h_2^2}{12} f''(\\eta_2).\n",
    "\\end{align}\n",
    "$$\n",
    "\n",
    "The problem with attempting to use these two equations to eliminate the error term lies in the fact that $\\eta_1$ and $\\eta_2$ are not likely to be the same.  However, it is possible to show that, for a suitably smooth function, the error term can be replaced by a power series om even powers of $h$, namely\n",
    "\n",
    "$$\n",
    "E(h) = - (b-a)\\frac{h^2}{12} f''(\\eta_1) = \\sum_{j=1}^n K_j h^{2j} + \\mathcal{O}(h^{2n+2}),\n",
    "$$\n",
    "\n",
    "where the $K_j$ are constants, independent of the division $h$. Using this, and $h_2=h_1/2$ we can rewrite the two trapezoidal methods above as\n",
    "\n",
    "$$\n",
    "\\begin{align}\n",
    "I_1 &= \\frac{h_1}{2}\\left[f(a)+f(b)\\right] + K_1 h_1^2 + K_2 h_1^4+ \\mathcal{O}(h_1^6),\\\\\n",
    "I_2 &= \\frac{h_2}{2}\\left[f(a)+2f(a+h_2)+f(b)\\right] + K_1 h_2^2 + K_2 h_2^4 + \\mathcal{O}(h_2^6),\\\\\n",
    "&= \\frac{h_1}{4}\\left[f(a)+2f(a+h_2)+f(b)\\right] + K_1 \\frac{h_1^2}{4} + K_2 h_2^4+\\mathcal{O}(h_1^6).\n",
    "\\end{align}\n",
    "$$\n",
    "\n",
    "Now note that\n",
    "\n",
    "$$\n",
    "\\int_a^b f(x) dx=\\frac{4 I_2 - I_1}{3} = \\frac{h_2}{3}\\left[f(a) + 4 f(a+h_2) + f(b) \\right] - \\frac{12}{3} K_2 h_2^4 + \\mathcal{O}(h_2^6).\n",
    "$$\n",
    "\n",
    "The resulting numerical integration scheme is known as *Simpson's Rule* and the error is now $\\mathcal{O}(h^4)$ rather than the $\\mathcal{O}(h^2)$ for the (composite) trapezoidal rule.\n",
    "\n",
    "This technique of eliminating error terms using results from two step sizes is generally referred to as Richardson's extrapolation.  We can also use this method to get rid of higher order error terms as well which brings us to *Romberg's Method*.\n",
    "\n",
    "## Romberg's Method\n",
    "\n",
    "We start by using the composite trapezoidal rule for $m_1=1,\\, m_2=2,\\, m_3=4,\\,\\cdots m_n=2^{n-1}$ subintervals with regularly spaced points $h_k=\\frac{b-a}{m_k}$ apart. In particular, when we do this we don't want to recompute $f(x)$ any more than necessary so we need to write the trapezoidal rule for the different intervals in such a way that we use our previous work:\n",
    "\n",
    "$$\n",
    "\\begin{align}\n",
    "R_{1,1} &= \\frac{h_1}{2}\\left[f(a)+f(b)\\right],\\\\\n",
    "R_{2,1} &= \\frac{h_2}{2}\\left[f(a)+f(b) + 2 f(a+h_2)\\right],\\\\\n",
    "&= \\frac{1}{2}\\left[ \\frac{h_1}{2}\\left\\{ f(a)+f(b)\\right\\} + 2h_2 f(a+h_2)\\right],\\\\\n",
    "&= \\frac{1}{2}\\left[ R_{1,1} + h_1 f(a+h_2)\\right],\\\\\n",
    "R_{3,1} &= \\frac{h_3}{2}\\left[f(a)+f(b) + 2\\left\\{f(a+h_3)+f(a+2 h_3) + f(a+3 h_r)\\right\\}\\right],\\\\\n",
    "&= \\frac{1}{2}\\left[ R_{2,1} + h_2 \\left\\{ f(a+h_3)+ f(a+3 h_r)\\right\\}\\right],\\\\\n",
    "&\\vdots \\\\\n",
    "R_{k,1} &= \\frac{1}{2}\\left[ R_{k-1,1}+h_{k-1} \\sum_{i=1}^{2^{k-2}} f(a+(2i-1)h_k) \\right].\n",
    "\\end{align}\n",
    "$$\n",
    "\n",
    "We now apply the extrapolation technique to refine our results using\n",
    "\n",
    "$$\n",
    "R_{k,2}=\\frac{4 R_{k,1}-R_{k-1,1}}{3},\n",
    "$$\n",
    "\n",
    "on each successive pair of our previous results.\n",
    "\n",
    "We then apply the extrapolation technique to successivly higher orders using\n",
    "\n",
    "$$\n",
    "R_{i,j} = \\frac{4^{j-1}R_{i,j-1}-R_{i-1,j-1}}{4^{j-1}-1},\\qquad j=2,3,\\cdots,n.\n",
    "$$\n",
    "\n",
    "\n",
    "### Example  \n",
    "Suppose we want to compute $\\int_0^\\pi \\sin x\\, dx$  (which in this case we know is $2$).  We construct the following tableau:  \n",
    "\n",
    "$$\n",
    "\\begin{align}\n",
    "{\\begin{array}{ccccccc}\n",
    "    R_{1,1}    &         &         &         &         & &\\\\\n",
    "    \\downarrow & \\rangle & R_{2,2} &         &         & &\\\\\n",
    "    R_{2,1}    &         &         & \\rangle & R_{3,3} & &\\\\\n",
    "    \\downarrow & \\rangle & R_{3,2} &         &         & \\rangle & R_{4,4}\\\\\n",
    "    R_{3,1}    &         &         & \\rangle & R_{4,3} & &\\\\\n",
    "    \\downarrow & \\rangle & R_{4,2} &         &         & &\\\\\n",
    "    R_{4,1}    &         &         &         &         &\\\\\n",
    "  \\end{array} } \n",
    "\\end{align}\n",
    "$$\n",
    "\n",
    "With actual numbers, this translates to\n",
    "\n",
    "\n",
    "$$\n",
    "\\begin{align}\n",
    "{\\begin{array}{ccccccc}\n",
    "    0    &         &         &         &         & &\\\\\n",
    "    \\downarrow & \\rangle & 2.094... &         &         & &\\\\\n",
    "    1.57079...    &         &         & \\rangle & 1.9985... & &\\\\\n",
    "    \\downarrow & \\rangle & 2.0045... &         &         & \\rangle & 2.0000055...\\\\\n",
    "    1.896...    &         &         & \\rangle & 1.999983... & &\\\\\n",
    "    \\downarrow & \\rangle & 2.00026... &         &         & &\\\\\n",
    "    1.974...    &         &         &         &         &\\\\\n",
    "  \\end{array} } \n",
    "\\end{align}\n",
    "$$\n",
    "\n",
    "We see that even though the underlying composite trapezoidal rule results in the first column are not all that accurate, extrapolation of those results to the fourth column gives  six digits of accuracy.  It should also be clear that we can get an estimate for our (forward) error by comparing the difference between our best two results, in this case $R_{4,4}$ and $R_{4,3}$ where $|R_{4,4}-R_{4,3}|\\sim 2\\times 10^{-5}$.  Here, this is the error in $R_{4,3}$ and so an overestimate of the error for $R_{4,4}$.  \n",
    "\n",
    "While these are fairly easy to code up yourself, there are also scipy versions of all of these integration routines as illustrated below where we use the various schemes to integrate $\\frac{1}{\\sqrt{\\pi}}e^{-x^2}$ from $0$ to $2$.  We start with the results of the cumulative trapezoidal and cumulative Simpson's rule with our interval divided into eight segments:"
   ]
  },
  {
   "cell_type": "code",
   "execution_count": 1,
   "metadata": {},
   "outputs": [
    {
     "name": "stdout",
     "output_type": "stream",
     "text": [
      "sample points:  [0.   0.25 0.5  0.75 1.   1.25 1.5  1.75 2.  ]\n"
     ]
    },
    {
     "ename": "AttributeError",
     "evalue": "module 'scipy.integrate' has no attribute 'trapezoid'",
     "output_type": "error",
     "traceback": [
      "\u001b[0;31m---------------------------------------------------------------------------\u001b[0m",
      "\u001b[0;31mAttributeError\u001b[0m                            Traceback (most recent call last)",
      "\u001b[0;32m<ipython-input-1-048afb33a0ca>\u001b[0m in \u001b[0;36m<module>\u001b[0;34m\u001b[0m\n\u001b[1;32m     10\u001b[0m \u001b[0my\u001b[0m \u001b[0;34m=\u001b[0m \u001b[0mf\u001b[0m\u001b[0;34m(\u001b[0m\u001b[0mx\u001b[0m\u001b[0;34m)\u001b[0m\u001b[0;34m\u001b[0m\u001b[0;34m\u001b[0m\u001b[0m\n\u001b[1;32m     11\u001b[0m \u001b[0;34m\u001b[0m\u001b[0m\n\u001b[0;32m---> 12\u001b[0;31m \u001b[0mI1\u001b[0m \u001b[0;34m=\u001b[0m \u001b[0mintegrate\u001b[0m\u001b[0;34m.\u001b[0m\u001b[0mtrapezoid\u001b[0m\u001b[0;34m(\u001b[0m\u001b[0my\u001b[0m\u001b[0;34m,\u001b[0m \u001b[0mx\u001b[0m\u001b[0;34m)\u001b[0m\u001b[0;34m\u001b[0m\u001b[0;34m\u001b[0m\u001b[0m\n\u001b[0m\u001b[1;32m     13\u001b[0m \u001b[0mI2\u001b[0m \u001b[0;34m=\u001b[0m \u001b[0mintegrate\u001b[0m\u001b[0;34m.\u001b[0m\u001b[0msimpson\u001b[0m\u001b[0;34m(\u001b[0m\u001b[0my\u001b[0m\u001b[0;34m,\u001b[0m \u001b[0mx\u001b[0m\u001b[0;34m)\u001b[0m\u001b[0;34m\u001b[0m\u001b[0;34m\u001b[0m\u001b[0m\n\u001b[1;32m     14\u001b[0m \u001b[0;34m\u001b[0m\u001b[0m\n",
      "\u001b[0;31mAttributeError\u001b[0m: module 'scipy.integrate' has no attribute 'trapezoid'"
     ]
    }
   ],
   "source": [
    "import numpy as np\n",
    "from scipy import integrate\n",
    "\n",
    "def f(x):\n",
    "   return 1/np.sqrt(np.pi) * np.exp(-x**2)\n",
    "\n",
    "x = np.linspace(0, 2, num=9, endpoint=True)\n",
    "print(\"sample points: \",x)\n",
    "\n",
    "y = f(x)\n",
    "\n",
    "I1 = integrate.trapezoid(y, x)\n",
    "I2 = integrate.simpson(y, x)\n",
    "\n",
    "print(\"trapezoidal = \",I1, \", Simpsons = \",I2)"
   ]
  },
  {
   "cell_type": "markdown",
   "metadata": {},
   "source": [
    "The accuracy of these results is difficult to judge, other than by comparing them which gives us an estimate for the trapezoidal rule.  In contrast, the Romberg integration keeps adding a row to the tableau until the results converge:"
   ]
  },
  {
   "cell_type": "code",
   "execution_count": 4,
   "metadata": {},
   "outputs": [
    {
     "name": "stdout",
     "output_type": "stream",
     "text": [
      "Romberg integration of <function vectorize1.<locals>.vfunc at 0x7efd5f239ee0> from [0, 2]\n",
      "\n",
      " Steps  StepSize   Results\n",
      "     1  2.000000  0.574523 \n",
      "     2  1.000000  0.494815  0.468246 \n",
      "     4  0.500000  0.496836  0.497509  0.499460 \n",
      "     8  0.250000  0.497448  0.497652  0.497662  0.497633 \n",
      "    16  0.125000  0.497607  0.497661  0.497661  0.497661  0.497661 \n",
      "    32  0.062500  0.497648  0.497661  0.497661  0.497661  0.497661  0.497661 \n",
      "    64  0.031250  0.497658  0.497661  0.497661  0.497661  0.497661  0.497661  0.497661 \n",
      "\n",
      "The final result is 0.4976611325094085 after 65 function evaluations.\n"
     ]
    }
   ],
   "source": [
    "from scipy import integrate\n",
    "\n",
    "normaldist = lambda x: 1/np.sqrt(np.pi) * np.exp(-x**2)\n",
    "result = integrate.romberg(normaldist, 0, 2, show=True)\n"
   ]
  },
  {
   "cell_type": "markdown",
   "metadata": {},
   "source": [
    "Our previous results from the trapezoidal and Simpson's rule correspond to the first two results in the fourth row. "
   ]
  },
  {
   "cell_type": "code",
   "execution_count": null,
   "metadata": {},
   "outputs": [],
   "source": []
  }
 ],
 "metadata": {
  "kernelspec": {
   "display_name": "Python 3",
   "language": "python",
   "name": "python3"
  },
  "language_info": {
   "codemirror_mode": {
    "name": "ipython",
    "version": 3
   },
   "file_extension": ".py",
   "mimetype": "text/x-python",
   "name": "python",
   "nbconvert_exporter": "python",
   "pygments_lexer": "ipython3",
   "version": "3.8.5"
  }
 },
 "nbformat": 4,
 "nbformat_minor": 5
}
