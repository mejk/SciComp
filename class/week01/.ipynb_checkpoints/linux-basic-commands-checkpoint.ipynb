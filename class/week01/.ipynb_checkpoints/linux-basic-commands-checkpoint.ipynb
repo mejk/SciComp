{
 "cells": [
  {
   "cell_type": "markdown",
   "metadata": {},
   "source": [
    "# Basic Linux commands\n",
    "\n",
    "````{panels}\n",
    ":column: col-lg-12 p-2\n",
    "\n",
    "**Learning goals:** \n",
    "- To get an overview of the most common Linux commands\n",
    "- How to find help on your computer\n",
    "- How to copy, move and remove data and directories\n",
    "- How to find information about the computer\n",
    "- How to use wildcards\n",
    "\n",
    "**Keywords:** Linux CLI commands, finding help on commands, wildcards\n",
    "\n",
    "**Associated material:** Cheat sheet of the most common Linux commands.\n",
    "\n",
    "**More information:**\n",
    "\n",
    "- [The Linux command line for beginners](https://ubuntu.com/tutorials/command-line-for-beginners)\n",
    "- [The Linux Command Line by William Shotts](https://linuxcommand.org/)\n",
    "\n",
    "````\n",
    "<hr>"
   ]
  },
  {
   "cell_type": "markdown",
   "metadata": {},
   "source": [
    "This section lists some of the most important and useful commands with examples. More commands will be introduced later with the introduction of other tools.\n",
    "\n",
    "<p></p>\n",
    "\n",
    "Additionally, some notes regarding difference to OSX are provided.\n",
    "<p></p>\n"
   ]
  },
  {
   "cell_type": "markdown",
   "metadata": {},
   "source": [
    "## How to get help\n",
    "<hr>\n",
    "\n",
    "As the very first thing, let's list a couple of methods how to get help using the command line"
   ]
  },
  {
   "cell_type": "markdown",
   "metadata": {},
   "source": [
    "<ins><code>man</code>: <b style=\"color:#1371a9;\">Get help on any command.</b></ins>\n",
    "<div class=\"int\">\n",
    "To get help on help, try <code>man man</code>.\n",
    "  <p></p>\n",
    "It is instructive to check each of the commands below using man. If for some reason there is no man-page (that's how the manual pages are often called) for a command, that probably means that full documentation was not installed.  \n",
    "</div>"
   ]
  },
  {
   "cell_type": "markdown",
   "metadata": {},
   "source": [
    "<ins><code>apropos</code>:\n",
    "<b style=\"color:#1371a9;\">You know what you want to do but cannot remember the command.</b></ins> \n",
    "\n",
    "<div class=\"int\">\n",
    "This can return a long list of commands, but it provides a lot of information. For example, to get to know what kind of copying commands are available, try \n",
    "    <p></p>\n",
    "    <code>apropos copy</code>\n",
    "</div>\n",
    "<p></p>\n",
    "As you can see, the list is very comprehensive."
   ]
  },
  {
   "cell_type": "markdown",
   "metadata": {},
   "source": [
    "## Who am I and who is in the system?\n",
    "<hr>"
   ]
  },
  {
   "cell_type": "markdown",
   "metadata": {},
   "source": [
    "<ins><code>whoami</code>:\n",
    "<b style=\"color:#1371a9;\">Who am I. Show my username</b></ins> \n",
    "\n",
    "<div class=\"int\">\n",
    "    As simple as that. This command doesn't have many options as can be checked using <code>man whoami</code>\n",
    "    <p></p>\n",
    "</div>"
   ]
  },
  {
   "cell_type": "markdown",
   "metadata": {},
   "source": [
    "<div class=\"int\">\n",
    "    \n",
    "**Example:** \n",
    "<p></p>\n",
    "<div class=\"clblue\">\n",
    "<pre>\n",
    " sam@linux:~$ whoami \n",
    " sam\n",
    "</pre>\n",
    "</div>\n",
    "\n",
    "</div>"
   ]
  },
  {
   "cell_type": "markdown",
   "metadata": {},
   "source": [
    "<ins><code>who</code>:\n",
    "<b style=\"color:#1371a9;\">Who is logged in the system and the sessions they have</b></ins> \n",
    "\n",
    "<div class=\"int\">\n",
    "This shows also the users logged in the system, since when and some other information. The command <code>who</code> has lots of options (check using <code>who</code>) including\n",
    "<p></p>\n",
    "<ul>    \n",
    "<li> <code>who -a</code>: Shows all the users logged in, the last time the system was booted and some other information.\n",
    "<li> <code>who -b </code>: Shows whe the systems was booted the last time. being removed.\n",
    "</ul>\n",
    "    \n",
    "<p></p>  \n",
    "</div>"
   ]
  },
  {
   "cell_type": "markdown",
   "metadata": {},
   "source": [
    "<div class=\"int\">\n",
    "\n",
    "**Example 1:**\n",
    "<p></p>\n",
    "<div class=\"clblue\">\n",
    "<pre>\n",
    " sam@linux:~$ who \n",
    " sam  tty1         Nov 12 15:21 (:0)\n",
    " sam  pts/1        Nov 12 15:21 (:0)\n",
    " sam  pts/2        Nov 12 15:21 (:0)\n",
    "</pre>\n",
    "</div>\n",
    "</div>"
   ]
  },
  {
   "cell_type": "markdown",
   "metadata": {},
   "source": [
    "<div class=\"int\">\n",
    "\n",
    "**Example 2:** \n",
    "<p></p>\n",
    "<div class=\"clblue\">\n",
    "<pre>\n",
    " sam@linux:~$ who -a\n",
    "         system boot  Nov 12 14:54\n",
    "</pre>\n",
    "</div>\n",
    "\n",
    "</div>"
   ]
  },
  {
   "cell_type": "code",
   "execution_count": null,
   "metadata": {},
   "outputs": [],
   "source": []
  },
  {
   "cell_type": "markdown",
   "metadata": {},
   "source": [
    "<div class=\"int\">\n",
    "\n",
    "**Example 3:** \n",
    "<p></p>\n",
    "<div class=\"clblue\">\n",
    "<pre>\n",
    " sam@linux:~$ who \n",
    "         system boot  Nov 12 14:54\n",
    "         run-level 5  Nov 12 14:54\n",
    " sam  tty1         Nov 12 15:21 (:0)\n",
    " sam  pts/1        Nov 12 15:21 (:0)\n",
    " sam  pts/2        Nov 12 15:21 (:0)\n",
    "</pre>\n",
    "</div>\n",
    "</div>"
   ]
  },
  {
   "cell_type": "markdown",
   "metadata": {},
   "source": [
    "## What is the name of my system and related\n",
    "<hr>\n",
    "\n",
    "Below are some of the useful system information commands. There are several more for various purposes, but here only some the more common ones are listed."
   ]
  },
  {
   "cell_type": "markdown",
   "metadata": {},
   "source": [
    "<ins><code>hostname</code>:\n",
    "<b style=\"color:#1371a9;\">Show (can also used to change) hostname (=the name of your computer).</b></ins> \n",
    "\n",
    "<div class=\"int\">\n",
    "The command <code>hostname</code> has several options (check using <code>man hostname</code>) including\n",
    "<p></p>\n",
    "<ul>    \n",
    "<li> <code>hostname -I -a</code>: Shows your IP addresses.\n",
    "</ul>\n",
    "    \n",
    "**OSX note:** This command also exists on Mac, but the options are different, check using <code>man hostname</code>     \n",
    "<p></p>  \n",
    "</div>"
   ]
  },
  {
   "cell_type": "markdown",
   "metadata": {},
   "source": [
    "<div class=\"int\">\n",
    "    \n",
    "**Example:** \n",
    "<p></p>\n",
    "<div class=\"clblue\">\n",
    "<pre>\n",
    " sam@linux:~$ hostname\n",
    " linux\n",
    "</pre>\n",
    "</div>\n",
    "\n",
    "</div>"
   ]
  },
  {
   "cell_type": "markdown",
   "metadata": {},
   "source": [
    "<ins><code>uname</code>:\n",
    "<b style=\"color:#1371a9;\">Shows system information. </b></ins> \n",
    "\n",
    "<div class=\"int\">\n",
    "This is a very useful command and it has several options (check using <code>man uname</code>) including\n",
    "<p></p>\n",
    "<ul>    \n",
    "<li> <code>uname -a</code>: Shows all information.\n",
    "<li> <code>uname -r</code>: Shows the kernel release.\n",
    "<li> <code>uname -o</code>: Shows the operating system.\n",
    "<p></p> \n",
    "</ul>\n",
    "    \n",
    "**OSX note:** This command also exists on Mac, but some of the options are different, check using <code>man hostname</code>     \n",
    "\n",
    " \n",
    "</div>"
   ]
  },
  {
   "cell_type": "markdown",
   "metadata": {},
   "source": [
    "<div class=\"int\">\n",
    "    \n",
    "**Example 1:** \n",
    "<p></p>\n",
    "<div class=\"clblue\">\n",
    "<pre>\n",
    " sam@linux:~$ uname \n",
    " Linux\n",
    "</pre>\n",
    "</div>\n",
    "</div>"
   ]
  },
  {
   "cell_type": "markdown",
   "metadata": {},
   "source": [
    "<div class=\"int\">\n",
    "    \n",
    "**Example 2:** \n",
    "<p></p>\n",
    "<div class=\"clblue\">\n",
    "<pre>\n",
    " sam@linux:~$ uname -a\n",
    " Linux linux 5.4.0-53-generic #59-Ubuntu SMP Wed Oct 21 09:38:44 UTC 2020 x86_64 x86_64 x86_64 GNU/Linux\n",
    "</pre>\n",
    "</div>\n",
    "</div>"
   ]
  },
  {
   "cell_type": "markdown",
   "metadata": {},
   "source": [
    "<ins><code>lscpu</code>:\n",
    "<b style=\"color:#1371a9;\">Shows information about your CPUs (list CPU). </b></ins> \n",
    "\n",
    "<div class=\"int\">\n",
    "Has several options (check using <code>man lscpu</code>).\n",
    "<p></p>\n",
    "\n",
    "    \n",
    "**OSX note 1:** This command doesn't exist on Mac by default. Instead, you can use the command<br>\n",
    " <code>system_profiler SPHardwareDataType</code>     \n",
    "<p></p>\n",
    "    \n",
    "**OSX note 2:** It is possible to get the Linux command + some others by installing the package <code>util-linux</code> using Homebrew:\n",
    "    \n",
    " <code>brew install util-linux</code>\n",
    " \n",
    "</div>"
   ]
  },
  {
   "cell_type": "markdown",
   "metadata": {},
   "source": [
    "<div class=\"int\">\n",
    "    \n",
    "**Example** (the output is truncated to fit in a smaller space): \n",
    "<p></p>\n",
    "<div class=\"clblue\">\n",
    "<pre>\n",
    "sam@linux:~$ lscpu \n",
    "Architecture:                    x86_64\n",
    "CPU op-mode(s):                  32-bit, 64-bit\n",
    "Byte Order:                      Little Endian\n",
    "Address sizes:                   39 bits physical, 48 bits virtual\n",
    "CPU(s):                          12\n",
    "On-line CPU(s) list:             0-11\n",
    "Thread(s) per core:              2\n",
    "Core(s) per socket:              6\n",
    "Socket(s):                       1\n",
    "NUMA node(s):                    1\n",
    "Vendor ID:                       GenuineIntel\n",
    "CPU family:                      6\n",
    "Model:                           158\n",
    "Model name:                      Intel(R) Core(TM) i7-9750H CPU @ 2.60GHz\n",
    "Stepping:                        10\n",
    "CPU MHz:                         4266.032\n",
    "CPU max MHz:                     4500.0000\n",
    "CPU min MHz:                     800.0000\n",
    "BogoMIPS:                        5199.98\n",
    "Virtualization:                  VT-x\n",
    "L1d cache:                       192 KiB\n",
    "L1i cache:                       192 KiB\n",
    "L2 cache:                        1.5 MiB\n",
    "L3 cache:                        12 MiB\n",
    "NUMA node0 CPU(s):               0-11\n",
    "Vulnerability Itlb multihit:     KVM: Mitigation: Split huge pages\n",
    "</pre>\n",
    "</div>\n",
    "</div>"
   ]
  },
  {
   "cell_type": "markdown",
   "metadata": {},
   "source": [
    "<ins><code>lsb_release</code>:\n",
    "<b style=\"color:#1371a9;\">Shows distribution specific information. LSB = Linux Standard Base </b></ins> \n",
    "\n",
    "<div class=\"int\">\n",
    "Has options (check using <code>man lsb_release</code>).\n",
    "<p></p>\n",
    "<p></p>\n",
    "<ul>    \n",
    "<li> <code>lsb_release -v</code>: Shows the version.\n",
    "<li> <code>lsb_release -a</code>: Shows all information.\n",
    "<p></p> \n",
    "</ul>    \n",
    "\n",
    "    \n",
    "**OSX note:** This command doesn't exist on Mac<br>\n",
    "<p></p>\n",
    "    </div>"
   ]
  },
  {
   "cell_type": "markdown",
   "metadata": {},
   "source": [
    "<div class=\"int\">\n",
    "    \n",
    "**Example** (the output is truncated to fit in a smaller space): \n",
    "<p></p>\n",
    "<div class=\"clblue\">\n",
    "<pre>\n",
    "sam@linux:~$ lsb_release -a\n",
    "No LSB modules are available.\n",
    "Distributor ID: Ubuntu\n",
    "Description:    Ubuntu 20.04.1 LTS\n",
    "Release:        20.04\n",
    "Codename:       focal     \n",
    "</pre>\n",
    "    </div>    "
   ]
  },
  {
   "cell_type": "markdown",
   "metadata": {},
   "source": [
    "## File / directory operations\n",
    "<hr>\n",
    "\n",
    "This section focuses on various file operations, such as how to how to see the current work directory, how to list, create, copy and delete files and directories and how to move between directories. The concepts of file permissions and owenrship are also discussed. "
   ]
  },
  {
   "cell_type": "markdown",
   "metadata": {},
   "source": [
    "### Some special conventions related to files and directories\n",
    "<hr>\n",
    "\n",
    "- Single dot (.) refers to the current directory\n",
    "- Double dots (..) refers to the directory at the next higher level.\n",
    "- Tilde (~) refers to home directory\n",
    "- Hidden files start with a dot (.)\n",
    "- Hyphen (-) refers to the previous directory where you were"
   ]
  },
  {
   "cell_type": "markdown",
   "metadata": {},
   "source": [
    "### Home directory and work directory / current directory\n",
    "<hr>"
   ]
  },
  {
   "cell_type": "markdown",
   "metadata": {},
   "source": [
    "<ins><code>pwd</code>: <b style=\"color:#1371a9;\">Show where am I.</b> \n",
    "<div class=\"int\">\n",
    "The command <code>pwd</code> prints the current directory on screen (also called *work directory* - pwd = print work directory). There are not man options for <code>pwd</code> (check using <code>man pwd</code>). The <code>pwd</code> command shows the full path.\n",
    "</div>\n",
    "<p></p>\n"
   ]
  },
  {
   "cell_type": "markdown",
   "metadata": {},
   "source": [
    "<div class=\"int\">\n",
    "\n",
    "**Example:<p></p>**\n",
    "<div class=\"clblue\">\n",
    "<pre>\n",
    " sam@linux:~$ pwd   \n",
    " /home/sam\n",
    "</pre>\n",
    "</div>\n",
    "<p></p>\n",
    "This means that the user sam is currently in his/her home directory.\n",
    "</div>"
   ]
  },
  {
   "cell_type": "markdown",
   "metadata": {},
   "source": [
    "### Show the files and directories \n",
    "<hr>\n",
    "\n",
    "<ins><code>ls</code>: <b style=\"color:#1371a9;\">Show the files and directories, that is, the contents of current directory</b> </ins>\n",
    "\n",
    "<div class=\"int\"> \n",
    "The command <code>ls</code> has a lot of useful options as one can see by using <code>man ls</code>. Here are some (the option <code>-l</code> is used in connection with most of them since it is very useful to see the file/directory details):\n",
    "<p></p>\n",
    "<ul>    \n",
    "<li> <code>ls -l</code>: Long listing, shows the file/directory properties including size, time of last modification, owner and access rights.\n",
    "<li> <code>ls -lt</code>: The option <code>-t</code> lists the files ordered such that the most recently modified is listed first. This is very useful with the option <code>-l</code> \n",
    "<li> <code>ls -ltr</code>: Using the previous with the option <code>-r</code> lists the files in reverse order: such that the most recently modified is listed last.\n",
    "<li> <code>ls -la</code>: The option <code>-t</code> lists all the files including the hidden files that start with a dot.\n",
    "<li> <code>ls -lS</code>: The option <code>-S</code> lists the files with the largest one first.  \n",
    "<li> <code>ls -lh</code>: The option <code>-h</code> lists the files such that size is in a human readable format. This means sizes are given in the form 1k, 1M, 1G. This is very useful.  \n",
    "</ul>\n",
    "    \n",
    "**Note: The dot directories.**  When using <code>ls -la</code>, there are two directories that have the names dot (.) and (..) listed. As described above, dot refers to the current directory and double dot to the one directry above. These can be used when moving around directories as will be done below.  \n",
    "        \n",
    "**Note: File details when using the long listing.**      \n",
    "\n",
    "<!--    \n",
    "<table class=\"lblue\">\n",
    "    <tr>\n",
    "        <td>\n",
    "            <img src=\"./img/dot-directories.svg\" width=\"100%\"/>\n",
    "        </td>\n",
    "    </tr>    \n",
    "    <tr>\n",
    "        <td colspan=\"1\">\n",
    "        Figure: When getting the long listing with the file and other details, this is how it could look like. The dot directories are also shown. The access rights come in three groups, those of the user's, group's and other's. <code>r</code>=right to read,<code>x</code>=right to execute, <code>w</code>=right to write, <code>-</code>=no right's given. Dash in the first column means file while <code>d</code> stands for directory.  \n",
    "        </td>\n",
    "    </tr>\n",
    "</table>    \n",
    "\n",
    "-->\n",
    "\n",
    "```{figure} img/dot-directories.svg\n",
    ":width: 750px\n",
    ":name: heart\n",
    "When getting the long listing with the file and other details, this is how it could look like. The dot directories are also shown. The access rights come in three groups, those of the user's, group's and other's. <code>r</code>=right to read,<code>x</code>=right to execute, <code>w</code>=right to write, <code>-</code>=no right's given. Dash in the first column means file while <code>d</code> stands for directory. \n",
    "```    \n",
    "    \n",
    "</div>\n",
    "\n"
   ]
  },
  {
   "cell_type": "markdown",
   "metadata": {},
   "source": [
    "<ins><code>tree</code>: <b style=\"color:#1371a9;\">Show the directory structure.</b> </ins>\n",
    "\n",
    "<div class=\"int\"> \n",
    "This is a neat tool that can be used to view the directory structure.\n",
    "The command <code>tree</code> may alrady be in your system. To check if that is the case, open a terminal window and type\n",
    "<p></p>\n",
    "   <code>which tree</code>\n",
    "<p></p>\n",
    "\n",
    "If you see something like \n",
    "```\n",
    "/usr/bin/tree\n",
    "```\n",
    "<p></p>\n",
    "    \n",
    "Then the command is already installed. If that is not the case, you can do it as follows:\n",
    "\n",
    "- In Ubuntu/Debian-based systems:<br>\n",
    "   <code>sudo apt install tree</code>\n",
    "\n",
    "   \n",
    "Let's check how it works. The command gives the directory tree (as in the Figure) with respect to the argument. If the argument is the root directory <code class=\"wlblue\">/</code>, the command\n",
    "\n",
    "   <code>tree /</code>\n",
    "\n",
    "prints the directory tree starting from the root level on the screen. You can stop it by pressing\n",
    "\n",
    "<kbd>ctrl-C</kbd>\n",
    "\n",
    "**Note:** The keystroke <kbd>ctrl-C</kbd> can always be used to stop a process than runs on your screen. It is *very* useful. There are other ones as well but they will be introduced later.\n",
    "\n",
    "If the above would be all there is to <code>tree</code>, then it wouldn't be super useful. But fortunately it takes different optional arguments. One particularly useful one is the option <code>-L number</code> that defines the level. For example, \n",
    "\n",
    "  <code>tree -L 1 /</code>\n",
    "  \n",
    "shows only one level below the root directory and \n",
    "\n",
    "  <code>tree -L 1 -t /</code>\n",
    "\n",
    "provides listing that is ordered from the ones that was modified the the longest time ago to the latest one.\n",
    "\n",
    "To get more information about <code>tree</code>, simply type\n",
    "\n",
    "<code>man tree</code>\n",
    "\n",
    "on the terminal screen.\n",
    "    \n",
    "**OSX note:** If this command is not on your Mac, you can install it using homebrew\n",
    "\n",
    "<p></p>    \n",
    "    <code>brew install tree</code>\n",
    "<p></p>\n",
    "    \n",
    "</div>    "
   ]
  },
  {
   "cell_type": "markdown",
   "metadata": {},
   "source": [
    "### Wildcards \n",
    "<hr>\n",
    "\n",
    "Below is a list of common wildcards. They are very useful when searching, listing copying and so on. These should not be mixed up with the conventions listed above. There is a distinction between wildcards and regular expressions, but we are not going to discuss the latter here.\n",
    "\n",
    "- <code>*</code>: match any number (zero or more) of characters. Example: <code>ls a*</code> lists all the files and directories starting with the letter a (small a only, capitalization matters).\n",
    "- <code>?</code>: Match a single character.  Example: <code>ls a?v*</code> lists files that start with the letter a, the second character can be any character, the third character is small v followed by any number of arbitrary characters. \n",
    "- <code>[ ]</code>: range of characters. For example A\\[abc\\]D, matches strings that start with the letter A, end to the letter D and have any combination of the characters abc between them. Example: <code>ls a[dvc]*</code> lists files that start with an a, then have any combination of dvc followed by any number of any characters. \n",
    "- <code>[! ]</code>: The exclamation mark is logical not. When used in example A\\[!abc\\]D, matches strings that start with the letter A, end to the letter D but doesn't have any of abc between them. Example: <code>ls a[!dvc]*</code> lists files that start with an a, then have no  combination of dvc followed by any number of any characters. "
   ]
  },
  {
   "cell_type": "markdown",
   "metadata": {},
   "source": [
    "### Moving between directories\n",
    "<hr>\n",
    "Now that we know how to see where we are, and list the files and directories, let's look at how to move between directories."
   ]
  },
  {
   "cell_type": "markdown",
   "metadata": {},
   "source": [
    "<ins><code>cd</code>: <b style=\"color:#1371a9;\">Change directory.</b></ins>\n",
    "\n",
    "<div class=\"int\">\n",
    "<code>cd</code> means change directory. If you want to move, for example, into your downloads directory (it is assumed that you are in your home directory), type<p></p>\n",
    "    <code>cd Downloads</code> \n",
    "    <p></p>    \n",
    "    \n",
    "  **Capitalization.** Capitalization matters, usually the downloads directory is spelled with a capital but you can of course check that by using the <code>ls </code> command.   \n",
    "    <p></p>\n",
    "    \n",
    "**Using tilde (~) to get your home directory.** Tilde is refers to your home directory and it is really handy. For example, to move your home directory from wherever you are, typing\n",
    "    \n",
    "<p></p>\n",
    "    <code>cd ~</code> \n",
    "    <p></p>      \n",
    "will take you home. Or, if you want to move from some remote directory to the donwloads directory, simpy type\n",
    "<p></p>\n",
    "    <code>cd ~/Downloads</code> \n",
    "    <p></p>\n",
    "The slash character is needed since it refers to a directory.     \n",
    "   <p></p>\n",
    "    \n",
    "**Using plain <code>cd</code>to get your home directory.** Simply using\n",
    "    \n",
    "<p></p>\n",
    "    <code>cd</code> \n",
    "    <p></p> \n",
    "    \n",
    "moves you back to your home directory.    \n",
    "    <p></p> \n",
    "    \n",
    "**Using double dots  <code>cd ..</code>to move up one level.** Simply using\n",
    "    \n",
    "<p></p>\n",
    "    <code>cd ..</code> \n",
    "    <p></p>     \n",
    "    \n",
    "moves you up one level. For example, if you are in the downloads directory, <code>cd ..</code> moves back to your home directory since it is one level above, that is, it is the *parent directory*.   \n",
    "    <p></p>     \n",
    "    \n",
    "<p></p>    \n",
    "</div>"
   ]
  },
  {
   "cell_type": "markdown",
   "metadata": {},
   "source": [
    "<ins><code>pushd</code>: <b style=\"color:#1371a9;\">Switch easily between two (or more) directories.</b></ins>\n",
    "\n",
    "<div class=\"int\">\n",
    "The command <code>pushd</code> adds a directory (or directories) in the directory stack and allows you to move easily between them. In the simplest case, if you are currently located in your home directory, just  type<p></p>\n",
    "    <code>pushd ~Downloads</code> \n",
    "    <p></p>  \n",
    "\n",
    "This adds the directory <code>Dowalods</code> to the stack and moves you there. Typing \n",
    "<p></p>\n",
    "    <code>pushd </code> \n",
    "    <p></p>\n",
    "\n",
    "takes you back home or whatever is the other directory in the stack (there can be more than one). Executing <code>pushd</code> once more takes you to <code>Downloads</code>. This is very handy when moving between directories that have long paths.   \n",
    "    \n",
    "**How to see which directories are included in the stack?**    \n",
    "    <p></p>\n",
    "    <code>dirs -v</code> \n",
    "    <p></p>  "
   ]
  },
  {
   "cell_type": "markdown",
   "metadata": {},
   "source": [
    "### Creating and deleting files and directories\n",
    "<hr>\n",
    "Now that we know how to see where we are and list the files and directories, let's look at how to create and delete files and directories."
   ]
  },
  {
   "cell_type": "markdown",
   "metadata": {},
   "source": [
    "<ins><code>touch</code>: <b style=\"color:#1371a9;\">Create an empty file.</b></ins>\n",
    "\n",
    "<div class=\"int\">\n",
    "Doesn't sound like much of a command but in practise this it is  very useful. In addition to generating new empty files, <code>touch</code> can also be used to change the time when a file has been modified. This can be very helpful if the system (like some HPC systems) automatically deletes files older than some specified time if they are in some particular directories (such as temporary work directories).\n",
    "    <p></p>\n",
    "To create a file called my_text_file.txt, try:\n",
    "    <p></p>    \n",
    "<code>touch my_test_file.txt</code>\n",
    "    \n",
    "<div class=\"int\">    "
   ]
  },
  {
   "cell_type": "markdown",
   "metadata": {},
   "source": [
    "<ins><code>mkdir</code>: <b style=\"color:#1371a9;\">Create a new directory.</b></ins>\n",
    "<div class=\"int\">\n",
    "To create a new empty directory, called my_test_directory, try:\n",
    "    <p></p>    \n",
    "<code>mkdir my_test_directory</code> \n",
    "    </div>\n",
    "<p></p>\n",
    "<ins><code>rmdir</code>: <b style=\"color:#1371a9;\">Delete a directory.</b></ins>\n",
    "<div class=\"int\">\n",
    "To delete a directory, it must be empty (this is a good safeguard). If the directory is not empty, <code>rmdir</code> won't do anything. Since the newly created directory is empty, let's delete it:\n",
    "    <p></p>    \n",
    "<code>rmdir my_test_directory</code> \n",
    "    </div>"
   ]
  },
  {
   "cell_type": "markdown",
   "metadata": {},
   "source": [
    "<ins><code>rm</code>: <b style=\"color:#1371a9;\">Delete files.</b></ins>\n",
    "\n",
    "<div class=\"int\">The command <code>rm</code> is (obviously) very useful but also potentially *very* dangerous espcially some of the options. The dangerous options are listed separately with a warning. \n",
    "    <p></p>\n",
    "The command <code>rm</code> does not remove directories, empty or not, unless the corresponding option is given, see below. Here are some useful options <code>rm</code> takes:\n",
    "<p></p>\n",
    "<ul>    \n",
    "<li> <code>rm -v</code> : Verbose. Does not prompt but tells what was done.\n",
    "<li> <code>rm -i </code> : Interactive remove, prompt for every file being removed.\n",
    "<li> <code>rm -d</code> : Removes empty directories.\n",
    " \n",
    "</ul>\n",
    "    \n",
    "<p></p>    \n",
    "\n",
    "<!--    \n",
    "<div class=\"red\"> \n",
    "    \n",
    " **Important: Be *very* careful with the following options and DO NOT EXECUTE THEM NOW** \n",
    "\n",
    "- <code>rm *</code>: Deletes *absolutely everything* in the current directory. There is no way to recover any of the files unless there is a separate backup.\n",
    "- <code>rm -r *</code>: Deletes *absolutely everything recursively*. That is, everything including subdirectories are deleted. As the most drastic example, the superuser can delete the whole system if this is accidentally executed at the root directory. \n",
    "```\n",
    "    </div>\n",
    "</div>    \n",
    "-->\n"
   ]
  },
  {
   "cell_type": "markdown",
   "metadata": {},
   "source": [
    "```{warning}\n",
    "**Important: Be *very* careful with the following options and DO NOT EXECUTE THEM NOW** \n",
    "\n",
    "- ``rm * ``  : Deletes *absolutely everything* in the current directory. There is no way to recover any of the files unless there is a separate backup.\n",
    "- ``rm -r * ``  : Deletes *absolutely everything recursively*. That is, everything including subdirectories are deleted. As the most drastic example, the superuser can delete the whole system if this is accidentally executed at the root directory. \n",
    "```"
   ]
  },
  {
   "cell_type": "markdown",
   "metadata": {},
   "source": [
    "### Copying, renaming and moving files and directories\n",
    "<hr>\n",
    "Now that we know how to see where we are and list the files and directories, let's look at how to create and delete files and directories."
   ]
  },
  {
   "cell_type": "markdown",
   "metadata": {},
   "source": [
    "<ins><code>cp</code>: <b style=\"color:#1371a9;\">Copy files or/and directories.</b></ins>\n",
    "\n",
    "<div class=\"int\">\n",
    "The command <code>cp</code> has lots of useful options, check using <code>man ls</code>. The wildcards listed above are also very useful with this command. Here are some useful options:\n",
    "<p></p>\n",
    "<ul>    \n",
    "<li> <code>cp -r</code>: Copies recursivley, that is, copies also subdirectories.\n",
    "<li> <code>cp -p </code>: This option preserves the date last modified (timestamps), owenership and mode. A very useful option. \n",
    "<li> <code>cp -i </code>: Interactive copying. Asks if an existing fils should be overwritten or kept.\n",
    "<li> <code>cp -n</code>: Doesn't allow overwriting existing files.\n",
    "<li> <code>cp -u</code>: If a file with the same name exists, it is overwritten only of the source file is newer than the existing file at the destination.\n",
    " \n",
    "</ul>\n",
    "    \n",
    "</div>\n",
    "    \n"
   ]
  },
  {
   "cell_type": "markdown",
   "metadata": {},
   "source": [
    "<ins><code>mv</code>: <b style=\"color:#1371a9;\">Move or rename files and directories.</b></ins>\n",
    "\n",
    "<div class=\"int\">\n",
    "The command <code>mv</code> can be used with both files and directories. Below are some useful options (very similar to <code>cp</code>):\n",
    "<p></p>\n",
    "<ul>    \n",
    "<li> <code>mv -i </code>: Interactive mode. Very useful to avoid overwriting files or/and directories.\n",
    "<li> <code>mv -n</code>: Prevents overwriting existing files/directories.\n",
    "<li> <code>mv -u</code>: If a file/directory with the same name exists, it is overwritten only of the source is newer than the destination.\n",
    " \n",
    "</ul>    \n",
    "</div>    "
   ]
  },
  {
   "cell_type": "markdown",
   "metadata": {},
   "source": [
    "<div class=\"int\">\n",
    "<p></p>\n",
    "    \n",
    "**Example:** Let's 1) create an empty file, but first check that it is not there, 2) copy it, 3) rename the original, 4) list the files using a wildcard, 4) remove the original, 5) remove the copy as well, and finally 6) check that both of the files have been deleted.  <p></p>\n",
    "<div class=\"clblue\">\n",
    "<pre>\n",
    " sam@linux:~$ ls test.txt   \n",
    " ls: cannot access 'test.txt': No such file or directory\n",
    " sam@linux:~$ touch test.txt  \n",
    " sam@linux:~$ ls test.txt   \n",
    " test.txt\n",
    " sam@linux:~$ cp test.txt test-copy.txt  \n",
    " sam@linux:~$ ls test*  \n",
    " test.txt test-copy.txt \n",
    " sam@linux:~$ mv test.txt test-original.txt  \n",
    " sam@linux:~$ ls test*  \n",
    " test-original.txt test-copy.txt  \n",
    " sam@linux:~$ rm test-original.txt   \n",
    " sam@linux:~$ rm test-copy.txt   \n",
    " sam@linux:~$ ls test*\n",
    " ls: cannot access 'test*': No such file or directory\n",
    "</pre>\n",
    "</div>\n",
    "</div>"
   ]
  },
  {
   "cell_type": "markdown",
   "metadata": {},
   "source": [
    "## What is in your files - seeing file contents\n",
    "<hr>\n",
    "\n",
    "At this time we don't have files with content but since we will needs these commands shortly, let's list them briefly and elaborate when we have files with content."
   ]
  },
  {
   "cell_type": "markdown",
   "metadata": {},
   "source": [
    "<ins><code>cat</code>: <b style=\"color:#1371a9;\">Concatenate files and print on screen (or standard output to be more precise).</b></ins>\n",
    "\n",
    "<div class=\"int\">\n",
    "<p></p>\n",
    "<ul>    \n",
    "</ul>    \n",
    "</div>    "
   ]
  },
  {
   "cell_type": "markdown",
   "metadata": {},
   "source": [
    "<ins><code>head</code>: <b style=\"color:#1371a9;\">Show the first 10 lines of a file.</b></ins>\n",
    "\n",
    "<div class=\"int\">\n",
    "<p></p>\n",
    "<ul>    \n",
    "</ul>    \n",
    "</div>    "
   ]
  },
  {
   "cell_type": "markdown",
   "metadata": {},
   "source": [
    "<ins><code>head</code>: <b style=\"color:#1371a9;\">Show the first 10 lines of a file.</b></ins>\n",
    "\n",
    "<div class=\"int\">\n",
    "<p></p>\n",
    "<ul>    \n",
    "</ul>    \n",
    "</div>    "
   ]
  },
  {
   "cell_type": "markdown",
   "metadata": {},
   "source": [
    "<ins><code>tail</code>: <b style=\"color:#1371a9;\">Show the last 10 lines of a file.</b></ins>\n",
    "\n",
    "<div class=\"int\">\n",
    "<p></p>\n",
    "<ul>    \n",
    "</ul>    \n",
    "</div>    "
   ]
  },
  {
   "cell_type": "markdown",
   "metadata": {},
   "source": [
    "<ins><code>more</code>: <b style=\"color:#1371a9;\">Show the file contents screenful-by-screenful.</b></ins>\n",
    "\n",
    "<div class=\"int\">\n",
    "<p></p>\n",
    "<ul>    \n",
    "</ul>    \n",
    "</div>    "
   ]
  },
  {
   "cell_type": "markdown",
   "metadata": {},
   "source": [
    "<ins><code>less</code>: <b style=\"color:#1371a9;\">Opposite of more.</b></ins>\n",
    "\n",
    "<div class=\"int\">\n",
    "<p></p>\n",
    "<ul>    \n",
    "</ul>    \n",
    "</div>    "
   ]
  },
  {
   "cell_type": "markdown",
   "metadata": {},
   "source": [
    "## Find files and directories\n",
    "<hr>\n"
   ]
  },
  {
   "cell_type": "markdown",
   "metadata": {},
   "source": [
    "<ins><code>find</code>: <b style=\"color:#1371a9;\">Find files and directories.</b></ins>\n",
    "<p></p>\n",
    "<div class=\"int\">\n",
    "    The <code>find</code> command is <em>very</em> powerful and it has lots of options and different ways to use them. It also finds files and directories very fast. Here, the basic usage with some options are provided. This is how the command works:\n",
    "<p></p>\n",
    "\n",
    "<code>find [where to search] [criterion for searching (name, type, date of modification...)] [-options] [what to find]</code>    \n",
    "<p></p>\n",
    "\n",
    "    \n",
    "The command <code>find</code> is somewhat more complex than the ones above. It's usage is illustrated with examples:\n",
    "<p></p>\n",
    "<ul>    \n",
    "<li> <code>find . -name myfile.txt</code>: Searches the current directory and any directory below it for a file or directory with the precise name myfile.txt.\n",
    "<li> <code>find . -name \"myfile*\"</code>: Searches the current directory and any directory below it for a file or directory that start(s) with myfile.\n",
    "<li><code>find . -type d -name MYDIR</code>: Searches the current directory and any directory below it for a directory (-type d) with the precise name MYDIR.    \n",
    " \n",
    " \n",
    "</ul>    \n",
    "</div>       "
   ]
  },
  {
   "cell_type": "markdown",
   "metadata": {},
   "source": [
    "<div class=\"int\">\n",
    "<p></p>\n",
    "    \n",
    "**Example 1:** Since at this time we don't have (assuming you have a new installation) much on your computer, let's search for something we know have:<p></p>\n",
    "<div class=\"clblue\">\n",
    "<pre>\n",
    "sam@linux:~$ find . -type d -name Downloads  \n",
    "./Downloads\n",
    "</pre>\n",
    "</div>\n",
    "</div>"
   ]
  },
  {
   "cell_type": "markdown",
   "metadata": {},
   "source": [
    "<div class=\"int\">\n",
    "<p></p>\n",
    "    \n",
    "**Example 2:** Let's us a wildcard:<p></p>\n",
    "<div class=\"clblue\">\n",
    "<pre>\n",
    "sam@linux:~$ find . -type d -name \"Down\"  \n",
    "./Downloads\n",
    "</pre>\n",
    "</div>\n",
    "</div>"
   ]
  },
  {
   "cell_type": "markdown",
   "metadata": {},
   "source": [
    "## Beyond the terminal: Shell scripting\n",
    "<hr>"
   ]
  },
  {
   "cell_type": "markdown",
   "metadata": {},
   "source": [
    "\n"
   ]
  },
  {
   "cell_type": "markdown",
   "metadata": {},
   "source": [
    "# Basic Linux commands, part 2\n",
    "<hr>\n",
    "Additionally, some notes regarding difference to OSX are provided."
   ]
  },
  {
   "cell_type": "markdown",
   "metadata": {},
   "source": []
  },
  {
   "cell_type": "markdown",
   "metadata": {},
   "source": [
    "### Compare files"
   ]
  },
  {
   "cell_type": "markdown",
   "metadata": {},
   "source": [
    "<ins><code>diff</code></ins>"
   ]
  },
  {
   "cell_type": "markdown",
   "metadata": {},
   "source": [
    "### Linking files"
   ]
  },
  {
   "cell_type": "markdown",
   "metadata": {},
   "source": [
    "<ins><code>ln</code></ins>"
   ]
  },
  {
   "cell_type": "markdown",
   "metadata": {},
   "source": [
    "## Processes: View, stop, modify"
   ]
  },
  {
   "cell_type": "markdown",
   "metadata": {},
   "source": [
    "<ins><code>ps</code></ins>"
   ]
  },
  {
   "cell_type": "markdown",
   "metadata": {},
   "source": [
    "<ins><code>top</code></ins>"
   ]
  },
  {
   "cell_type": "markdown",
   "metadata": {},
   "source": [
    "<ins><code>kill</code></ins>"
   ]
  },
  {
   "cell_type": "markdown",
   "metadata": {},
   "source": [
    "<ins><code>nice</code></ins>"
   ]
  },
  {
   "cell_type": "markdown",
   "metadata": {},
   "source": [
    "### File permissions and ownership\n",
    "<hr>"
   ]
  },
  {
   "cell_type": "markdown",
   "metadata": {},
   "source": [
    "<ins><code>chmod</code>: <b style=\"color:#1371a9;\">Move or rename files and directories.</b></ins>\n",
    "\n"
   ]
  },
  {
   "cell_type": "markdown",
   "metadata": {},
   "source": [
    "<ins><code>chown</code>: <b style=\"color:#1371a9;\">Move or rename files and directories.</b></ins>\n",
    "\n",
    "\n"
   ]
  },
  {
   "cell_type": "markdown",
   "metadata": {},
   "source": [
    "<ins><code>grep</code>: <b style=\"color:#1371a9;\">Move </b></ins>\n",
    "\n",
    "\n"
   ]
  },
  {
   "cell_type": "markdown",
   "metadata": {},
   "source": [
    "<ins><code>sort</code>: <b style=\"color:#1371a9;\">Move.</b></ins>\n",
    "\n",
    "\n"
   ]
  },
  {
   "cell_type": "markdown",
   "metadata": {},
   "source": [
    "<ins><code>printenv</code>: <b style=\"color:#1371a9;\">Move.</b></ins>\n",
    "\n",
    "\n"
   ]
  },
  {
   "cell_type": "markdown",
   "metadata": {},
   "source": [
    "<ins><code>env</code>: <b style=\"color:#1371a9;\">Move.</b></ins>\n",
    "\n",
    "\n"
   ]
  },
  {
   "cell_type": "markdown",
   "metadata": {},
   "source": [
    "<ins><code>export</code>: <b style=\"color:#1371a9;\">Move.</b></ins>\n",
    "\n",
    "\n"
   ]
  }
 ],
 "metadata": {
  "kernelspec": {
   "display_name": "Python 3",
   "language": "python",
   "name": "python3"
  },
  "language_info": {
   "codemirror_mode": {
    "name": "ipython",
    "version": 3
   },
   "file_extension": ".py",
   "mimetype": "text/x-python",
   "name": "python",
   "nbconvert_exporter": "python",
   "pygments_lexer": "ipython3",
   "version": "3.8.5"
  }
 },
 "nbformat": 4,
 "nbformat_minor": 4
}
