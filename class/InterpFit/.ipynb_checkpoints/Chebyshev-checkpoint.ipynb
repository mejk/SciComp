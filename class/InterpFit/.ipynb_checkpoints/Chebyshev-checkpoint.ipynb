{
 "cells": [
  {
   "cell_type": "markdown",
   "metadata": {},
   "source": [
    "## Chebyshev Polynomials\n",
    "\n",
    "In the last section, we found that a set of nodes with points more densely spaced at the edges of the interval seemed to work much better for polynomial interpolation than equally spaced points.  It turns out, the points we choose were roots of a [Chebyshev polynomial](https://en.wikipedia.org/wiki/Chebyshev_polynomials).  Chebyshev polynomials are a set of orthogonal polynomials on the interval $[-1,1]$ with respect to the weight function $1/\\sqrt{1-x^2}$.  They can be defined via trignometric functions as\n",
    "\n",
    "```{math}\n",
    ":label: chebdef\n",
    "  T_k(x)=\\cos(k \\arccos x).\n",
    "```  \n",
    "\n",
    "Note that we will restrict $x$ to be in $[-1,1]$ here so $\\arccos x$ remains well-defined.  It should be clear from the definition in terms of the cosine function that $T_k(x)$ satisfies\n",
    "\n",
    "\n",
    "\n",
    "```{math}\n",
    ":label: prop1\n",
    "-1 \\geq T_k(x) \\geq 1 \\quad \\text{for}\\quad -1\\geq x \\geq 1\n",
    "```\n",
    "\n",
    "and $T_k(x)$ has roots at $k \\arccos x = (odd integer) \\frac{\\pi}{2}$ or  \n",
    "\n",
    "```{math}\n",
    ":label: prop2\n",
    "x_j=\\cos\\left( \\frac{(2j+1)\\pi}{2k} \\right),\\qquad j=0,...,k-1 \n",
    "```\n",
    " \n",
    "\n",
    "and $T_k(x)$ oscillates between $-1$ and $1$ a total of $k+1$ times, hitting these extremes at  \n",
    "\n",
    "\n",
    "```{math}\n",
    ":label: prop3\n",
    "  x=\\cos 0, \\cos(\\pi/k), ...,\\cos((k-1)\\pi/k).\n",
    "```\n",
    "\n",
    "\n",
    "\n",
    "Note that these zeros correspond to the projection onto $x$ of points spaced at equally spaced angles on the unit circle.  What is perhaps less clear is that Eq.{eq}`chebdef` corresponds to a polynomial at all.\n",
    "However, for $k=0$ and $1$ it is easy to see that\n",
    "\n",
    "$$\\begin{align}\n",
    "T_0(x)&=\\cos(0 \\arccos x) = 1,\\\\\n",
    "T_1(x)&=\\cos(1 \\arccos x) = x.\n",
    "\\end{align}\n",
    "$$\n",
    "\n",
    "To see that we get a polynomial for higher $k$ it is helpful to derive the recursion relation for the Chebyshev polynomials.  If we set $y=\\arccos x$ we have  \n",
    "\n",
    "$$\\begin{align}\n",
    "T_{k+1}(x)&=\\cos\\left( (k+1)y \\right)= \\cos(ky)\\cos(y)-\\sin(ky)\\sin(y),\\\\\n",
    "T_{k-1}(x)&=\\cos\\left( (k-1)y \\right)= \\cos(ky)\\cos(y)+\\sin(ky)\\sin(y),\n",
    "\\end{align}$$\n",
    "\n",
    "where we have used the trig-identies for the sum/difference of two angles.  Adding these equations gives  \n",
    "\n",
    "$$T_{k+1}(x)+T_{k-1}(x)=2\\cos(ky)\\cos(y)=2T_k(x)T_1(x)=2 x\\, T_k(x),$$  \n",
    "\n",
    "making use of our previous expression that $T_1(x)=x$.  This can then be easily rearranged to give the recursion relation  \n",
    "\n",
    "```{math}\n",
    ":label: chebrecursion\n",
    "T_{k+1}(x)=2 x\\, T_k(x) - T_{k-1}(x).\n",
    "```\n",
    "\n",
    "As implied by the name, we can use this to recursively derive higher order polynomials given the two lower order ones.  Starting with the known $T_0(x)$ and $T_1(x)$ given above, this gives the next few polynomials as\n",
    "\n",
    "$$\\begin{align}\n",
    "T_2(x)&= 2x^2-1,\\\\\n",
    "T_3(x)&= 4x^3-3x,\\\\\n",
    "T_4(x)&= 8x^4-8x^2+1.\n",
    "\\end{align}$$\n",
    "\n",
    "From the pattern of these first few polynomials, and the multiplication by $2$ in the recursion it should also be clear that the leading coefficient (coefficient of the highest power of $x$) for $T_k(x)$ is $2^{k-1}$.  This, and the fact that we know the roots (in Equation {eq}`prop2`) implies that\n",
    "\n",
    "\n",
    "```{math}\n",
    ":label: Tnplus1\n",
    "\\frac{T_{n+1}(x)}{2^n}=(x-x_0)(x-x_1)...(x-x_n)=\\prod_{j=0}^n (x-x_j),\n",
    "```\n",
    "\n",
    "where the $x_j$ are the roots of $T_{n+1}(x)$ from Equation {eq}`prop2`.\n",
    "\n",
    "This now brings us back to the Error formula for polynomial interpolation that we derived in the previous section:\n",
    "\n",
    "$$\\begin{equation} f(x)-p_n(x) = \\frac{f^{n+1}(\\xi)}{(n+1)!}\\prod_{j=0}^n (x-x_j). \\end{equation}$$\n",
    "\n",
    "*If* we select our interpolation nodes as the roots of $T_{n+1}(x)$, namely  \n",
    "\n",
    "$$ x_i=\\cos\\left( \\frac{(2i+1)\\pi}{2n+2} \\right), \\qquad\\qquad i=0, 1, ..., n. $$\n",
    "\n",
    "then we see that we can substitute {eq}`Tnplus1` into the error formula to get  \n",
    "\n",
    "$$\\begin{equation} f(x)-p_n(x) = \\frac{f^{n+1}(\\xi)}{(n+1)!}\\frac{T_{n+1}}{2^n},\\end{equation}$$\n",
    "\n",
    "so that\n",
    "\n",
    "$$\\begin{align} |f(x)-p_n(x)| &= \\left|\\frac{f^{n+1}(\\xi)}{(n+1)!}\\frac{T_{n+1}}{2^n}\\right|,\\\\ &\\leq \\frac{|f^{n+1}(\\xi)|}{(n+1)!2^n}.\\end{align} $$\n",
    "\n",
    "In fact, we can also show that *this is the best* we can do.\n",
    "\n",
    "Again, we show this by first assuming the contrary and then showing that this leads to a contradiction.  In order for this to be the best choice, we must have $T_{n+1}(x)/2^n$ to be the monic polynomial (a polynomial with leading coefficient 1) with the smallest absolute maximum.  Suppose this is nto the case.  Then there must be another monic polynomial, say $Q_{n+1}(x)$ of degree $n$ with an even smaller absolute max on $[-1,1]$.  i.e.  \n",
    "\n",
    "$$ |Q_{n+1}(x)| < \\frac{1}{2^n}$$ \n",
    "\n",
    "for $x\\in [-1,1]$.\n",
    "\n",
    "Since $T_{n+1}(x)$ alternates between $-1$ and $1$ a total of $n+2$ times (as noted in {eq}`prop3`), at these $n+2$ points the polynomial  \n",
    "\n",
    "$$Q_{n+1}(x)-\\frac{T_{n+1}(x)}{2^n}$$\n",
    "\n",
    "is alternatively positive and negative (because $Q_{n+1}$ is always less than $1/2^n$) at these extreme points for $T_{n+1}(x)$.  The intermediate value theorem then implies that $Q_{n+1}-\\frac{T_{n+1}}{2^n}$ must cross zero at least $n+1$ times so it has $n+1$ roots.  This is a contradition as both $Q_{n+1}$ and $\\frac{T_{n+1}}{2^n}(x)$ are monic so the leading term cancels in subtraction and therefore $Q_{n+1}-\\frac{T_{n+1}}{2^n}$ has degree less than or equal to $n$ and so has at most $n$ zeros.\n",
    "\n",
    "So, in summary,\n",
    "\n",
    "- If you want to use polynomial interpolation to approximate a function on $[-1,1]$, select Chebyshev points as your interpolation nodes.\n",
    "\n",
    "- When you do this, you can also bound the error if you can also bound $|f^{n+1}(\\xi)|$.\n",
    "\n",
    "Chebyshev points are in $[-1,1]$ but you should keep in mind that any interval $x \\in [a,b]$ can be easily mapped into $y\\in [-1,1]$ via a linear transformation\n",
    "\n",
    "$$ x = \\frac{b-a}{2}y+\\frac{b+a}{2}. $$\n",
    "\n",
    "Constructing the polynomial interpolation for $y$ can then be done using Chebyshev points.\n",
    "\n",
    "We illustrate these points with an example below.\n",
    "\n",
    "### Example. \n",
    "\n",
    "Let's construct a fourth order polynomial intepolation ($n=4$) for $f(x)=e^{-x^2}$ on the interval $[0,1]$.\n",
    "\n",
    "We first need to map this interval onto $[-1,1]$ using the change of variables\n",
    "\n",
    "$$ x = \\frac{1}{2}(y+1).$$\n",
    "\n",
    "We then select our Chebyshev points as  \n",
    "\n",
    "$$y_0 = \\cos\\frac{\\pi}{10},\\,y_1=\\cos \\frac{3\\pi}{10}\\,y_1=\\cos \\frac{5\\pi}{10}\\,y_1=\\cos \\frac{7\\pi}{10}\\,y_1=\\cos \\frac{9\\pi}{10}.$$\n",
    "\n",
    "and construct $p_4(y)$ for $f(y)=e^{-(y+1)^2/4}$ using the standard barycentric Lagrange interpolation routine.  "
   ]
  },
  {
   "cell_type": "code",
   "execution_count": 3,
   "metadata": {},
   "outputs": [
    {
     "data": {
      "image/png": "[encoded data removed]",
      "text/plain": [
       "<Figure size 432x288 with 1 Axes>"
      ]
     },
     "metadata": {
      "needs_background": "light"
     },
     "output_type": "display_data"
    }
   ],
   "source": [
    "import matplotlib.pyplot as plt\n",
    "import numpy as np\n",
    "import math\n",
    "from scipy.interpolate import barycentric_interpolate\n",
    "n = 5\n",
    "x_observed = np.cos((2.*np.arange(0,n+1,1)+1.)*math.pi/(2.*n+2))\n",
    "y_observed = np.exp(-(x_observed+1.)**2/4)\n",
    "x = np.linspace(min(x_observed), max(x_observed), num=100)\n",
    "y = barycentric_interpolate(x_observed, y_observed, x)\n",
    "y_actual = np.exp(-(x+1.)**2/4)\n",
    "plt.plot((x_observed+1)/2, y_observed, \"o\", label=\"observation\")\n",
    "plt.plot((x+1)/2, y, label=\"5-node interpolation\")\n",
    "plt.plot((x+1)/2, y_actual, label=\"f(x)\",linestyle='dashed')\n",
    "plt.legend()\n",
    "plt.show()"
   ]
  },
  {
   "cell_type": "markdown",
   "metadata": {},
   "source": [
    "We can also construct an error bound.  The fifth derivative with respect to $x$ is $d^5 f(x)/dx^5=(-120x+160x^3-32x^5)e^{-x^2}$.  A quick plot (not shown, you can do this yourself) of this on the interval $[0,1]$ easily shows that $|d^5 f(x)/dx^5| < 33$.  As we are doing the interpolation along the transformed variable $y$ rather than $x$, to use the error formula we actually also need  \n",
    "\n",
    "$$\\frac{df}{dy} = \\frac{df}{dx} \\frac{dx}{dy} = \\frac{1}{2} \\frac{df}{dx}.$$ \n",
    "\n",
    "Putting this all together gives  \n",
    "\n",
    "$$|f(y)-p_n(y)| \\leq \\frac{|f^{n+1}(\\xi)|}{(n+1)!2^n} \\leq \\frac{33/2^5}{5!2^4} = 5\\times 10^{-5}.$$  \n",
    "\n",
    "In this case we can also work out the actual error:"
   ]
  },
  {
   "cell_type": "code",
   "execution_count": 12,
   "metadata": {},
   "outputs": [
    {
     "data": {
      "image/png": "[encoded data removed]",
      "text/plain": [
       "<Figure size 432x288 with 1 Axes>"
      ]
     },
     "metadata": {
      "needs_background": "light"
     },
     "output_type": "display_data"
    }
   ],
   "source": [
    "plt.plot((x+1)/2, np.abs(y-y_actual),label=\"Actual Error\")\n",
    "plt.legend()\n",
    "plt.show()"
   ]
  },
  {
   "cell_type": "markdown",
   "metadata": {},
   "source": [
    "The largest actual error is about 1/2 our error bound so the bound slightly overestimates the error (but that is generally what you expect for a *bound*). "
   ]
  },
  {
   "cell_type": "code",
   "execution_count": null,
   "metadata": {},
   "outputs": [],
   "source": []
  }
 ],
 "metadata": {
  "kernelspec": {
   "display_name": "Python 3",
   "language": "python",
   "name": "python3"
  },
  "language_info": {
   "codemirror_mode": {
    "name": "ipython",
    "version": 3
   },
   "file_extension": ".py",
   "mimetype": "text/x-python",
   "name": "python",
   "nbconvert_exporter": "python",
   "pygments_lexer": "ipython3",
   "version": "3.8.5"
  }
 },
 "nbformat": 4,
 "nbformat_minor": 5
}
